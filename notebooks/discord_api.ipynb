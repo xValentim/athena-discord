{
 "cells": [
  {
   "cell_type": "code",
   "execution_count": 1,
   "metadata": {},
   "outputs": [
    {
     "name": "stderr",
     "output_type": "stream",
     "text": [
      "USER_AGENT environment variable not set, consider setting it to identify your requests.\n"
     ]
    }
   ],
   "source": [
    "from langchain.prompts import ChatPromptTemplate \n",
    "from langchain_openai import ChatOpenAI\n",
    "from langchain_core.output_parsers import StrOutputParser\n",
    "from langchain_community.document_loaders import YoutubeLoader\n",
    "from langchain_community.document_loaders import WebBaseLoader\n",
    "from youtube_transcript_api import YouTubeTranscriptApi\n",
    "from langchain_core.runnables import RunnablePassthrough, RunnableParallel, Runnable\n",
    "import bs4\n",
    "from operator import itemgetter\n",
    "import markdown\n",
    "import datetime\n",
    "import pytube\n",
    "import os\n",
    "\n",
    "async def web_loader(url: str):\n",
    "    loader = WebBaseLoader(web_paths=[url])\n",
    "    docs = []\n",
    "    async for doc in loader.alazy_load():\n",
    "        docs.append(doc)\n",
    "    return docs\n",
    "\n",
    "def chain_summarization(content: str, size: str = 'medium'):\n",
    "    \n",
    "    \n",
    "    if size == 'small':\n",
    "        messages = [('system', 'Você é um assistente virtual com o objetivo de sumarizar textos de maneira clara, didática e objetiva. Sua tarefa é receber o conteúdo de uma página web e gerar uma sumarização curta que destaque os principais pontos, explicando-os de forma acessível. A ênfase deve ser na simplicidade, garantindo que o usuário compreenda todos os conceitos e informações chave. Ao fazer a sumarização, priorize a clareza, organização e a explicação de cada ponto central do conteúdo enviado.'), ('user', 'aqui está o conteudo {texto}')] \n",
    "    elif size == 'medium':\n",
    "        messages = [('system', 'Você é um assistente virtual com o objetivo de sumarizar textos de maneira clara, didática e objetiva. Sua tarefa é receber o conteúdo de uma página web e gerar uma sumarização de tamanho médio que destaque os principais pontos, explicando-os de forma acessível. A ênfase deve ser na simplicidade, garantindo que o usuário compreenda todos os conceitos e informações chave. Ao fazer a sumarização, priorize a clareza, organização e a explicação de cada ponto central do conteúdo enviado.'), ('user', 'aqui está o conteudo {texto}')]\n",
    "    elif size == 'large':\n",
    "        messages = [('system', 'Você é um assistente virtual com o objetivo de sumarizar textos de maneira clara, didática e objetiva. Sua tarefa é receber o conteúdo de uma página web e gerar uma sumarização longa e detalhada que destaque os principais pontos, explicando-os de forma acessível. A ênfase deve ser na simplicidade, garantindo que o usuário compreenda todos os conceitos e informações chave. Ao fazer a sumarização, priorize a clareza, organização e a explicação de cada ponto central do conteúdo enviado.'), ('user', 'aqui está o conteudo {texto}.')]\n",
    "\n",
    "    prompt = ChatPromptTemplate.from_messages(messages)\n",
    "    llm = ChatOpenAI(model='gpt-4o-mini', api_key=os.getenv('OPENAI_API_KEY'))\n",
    "    chain = (\n",
    "        {\n",
    "            'texto': itemgetter('texto')\n",
    "        }\n",
    "        |prompt\n",
    "        | llm\n",
    "        |StrOutputParser()\n",
    "    )\n",
    "\n",
    "    resume = chain.invoke({'texto': content})\n",
    "    return resume\n",
    "\n",
    "def youtube_summarization(url: str, size: str = 'medium'):\n",
    "    \n",
    "    url = url.strip()\n",
    "    loader = YoutubeLoader.from_youtube_url(url, language=['pt', 'en'], translation='pt')\n",
    "    texto = loader.load()\n",
    "    pytube_loader = pytube.YouTube(url)\n",
    "    title = pytube_loader.title\n",
    "    \n",
    "    if size == 'small':\n",
    "        messages = [('system', 'Você é um assistente virtual com o objetivo de sumarizar vídeos de maneira clara, didática e objetiva. Sua tarefa é receber o conteúdo de um vídeo e gerar uma sumarização curta que destaque os principais pontos, explicando-os de forma acessível. A ênfase deve ser na simplicidade, garantindo que o usuário compreenda todos os conceitos e informações chave. Ao fazer a sumarização, priorize a clareza, organização e a explicação de cada ponto central do conteúdo enviado.'), ('user', 'aqui está o conteudo {texto}')] \n",
    "    elif size == 'medium':\n",
    "        messages = [('system', 'Você é um assistente virtual com o objetivo de sumarizar vídeos de maneira clara, didática e objetiva. Sua tarefa é receber o conteúdo de um vídeo e gerar uma sumarização de tamanho médio que destaque os principais pontos, explicando-os de forma acessível. A ênfase deve ser na simplicidade, garantindo que o usuário compreenda todos os conceitos e informações chave. Ao fazer a sumarização, priorize a clareza, organização e a explicação de cada ponto central do conteúdo enviado.'), ('user', 'aqui está o conteudo {texto}')]\n",
    "    elif size == 'large':\n",
    "        messages = [('system', 'Você é um assistente virtual com o objetivo de sumarizar vídeos de maneira clara, didática e objetiva. Sua tarefa é receber o conteúdo de um vídeo e gerar uma sumarização longa e detalhada que destaque os principais pontos, explicando-os de forma acessível. A ênfase deve ser na simplicidade, garantindo que o usuário compreenda todos os conceitos e informações chave. Ao fazer a sumarização, priorize a clareza, organização e a explicação de cada ponto central do conteúdo enviado.'), ('user', 'aqui está o conteudo {texto}.')]\n",
    "\n",
    "    prompt = ChatPromptTemplate.from_messages(messages)\n",
    "    llm = ChatOpenAI(model = 'gpt-4o-mini', api_key=os.getenv('OPENAI_API_KEY'))\n",
    "    chain = (\n",
    "        {\n",
    "            'texto': itemgetter('texto')\n",
    "        }\n",
    "        |prompt\n",
    "        | llm\n",
    "        |StrOutputParser()\n",
    "    )\n",
    "\n",
    "    resume = chain.invoke({'texto': texto})\n",
    "    return resume, title\n",
    "\n",
    "def chain_youtube_summarization(url: str, size: str) -> Runnable:\n",
    "    \"\"\" \n",
    "    Responsável por criar uma chain que irá sumarizar um vídeo do YouTube.\n",
    "\n",
    "    Args:\n",
    "        url (str): A URL do vídeo do YouTube.\n",
    "        size (str): O tamanho de parágrafos para o resumo.\n",
    "\n",
    "    Returns:\n",
    "        Runnable: Um Runnable que executa a sumarização do vídeo do YouTube.\n",
    "\n",
    "    Raises:\n",
    "        HTTPException: Se houver um erro ao acessar o vídeo do YouTube.\n",
    "    \"\"\"\n",
    "    \n",
    "    try:\n",
    "        video_id = url.find('v=')\n",
    "        video_id = url[video_id+2:]\n",
    "        transcript = YouTubeTranscriptApi.get_transcript(video_id)\n",
    "\n",
    "        texto = \"\"\n",
    "        for line in transcript:\n",
    "            texto += line['text'] + \" \"\n",
    "    except Exception as e:\n",
    "        return 'conteudo indisponivel'\n",
    "\n",
    "\n",
    "    messages = [('system', 'Você é um assistente virtual com o objetivo de sumarizar vídeos de maneira clara, didática e objetiva. Sua tarefa é receber o conteúdo de um vídeo e gerar uma sumarização curta que destaque os principais pontos, explicando-os de forma acessível. A ênfase deve ser na simplicidade, garantindo que o usuário compreenda todos os conceitos e informações chave. Ao fazer a sumarização, priorize a clareza, organização e a explicação de cada ponto central do conteúdo enviado.'), \n",
    "    ('system', f'Utilize até, no MÁXIMO, {size} parágrafos para o resumo.'),\n",
    "    ('user', f'aqui está o conteudo {texto}')] \n",
    "\n",
    "    \n",
    "    prompt = ChatPromptTemplate.from_messages(messages)\n",
    "    llm = ChatOpenAI(model = 'gpt-4o-mini', api_key=os.getenv('OPENAI_API_KEY'))\n",
    "    chain = (\n",
    "        prompt\n",
    "        | llm\n",
    "        | StrOutputParser()\n",
    "    )\n",
    "\n",
    "    return chain.invoke({})"
   ]
  },
  {
   "cell_type": "code",
   "execution_count": 2,
   "metadata": {},
   "outputs": [
    {
     "data": {
      "text/plain": [
       "'O conteúdo fornecido parece ser uma lista extensa de serviços, produtos e seções disponíveis no site UOL (Universo Online). Aqui está um resumo dos principais pontos:\\n\\n1. **Serviços e Produtos**: O UOL oferece uma variedade de produtos e serviços, incluindo hospedagem (UOL Host), pagamentos (PagBank), e plataformas de entretenimento (UOL Play). Isso sugere que o UOL não é apenas um portal de notícias, mas também um provedor de soluções digitais.\\n\\n2. **Assinatura**: Há uma opção de assinatura que permite acesso ilimitado ao conteúdo exclusivo do UOL, indicando que o portal valoriza a oferta de informações premium para seus assinantes.\\n\\n3. **Canal de Comunicação**: O UOL disponibiliza suporte ao cliente por telefone, com números específicos para capitais e outras localidades, facilitando o contato para dúvidas ou assistência.\\n\\n4. **Variedade de Conteúdos**: O site abrange uma gama diversificada de tópicos, como notícias, política, economia, educação e entretenimento, além de seções dedicadas a esportes (como Champions League e NBA) e loterias.\\n\\n5. **Interação e Engajamento**: O UOL também oferece espaços para interação, como bate-papo e podcasts, promovendo um ambiente onde os usuários podem consumir e discutir conteúdo.\\n\\nEm resumo, o UOL se posiciona como uma plataforma abrangente que combina notícias, serviços digitais e entretenimento, atendendo a uma ampla gama de interesses e necessidades dos usuários.'"
      ]
     },
     "execution_count": 2,
     "metadata": {},
     "output_type": "execute_result"
    }
   ],
   "source": [
    "content = await web_loader('https://www.uol.com.br')\n",
    "trim_content = \"\\n\".join([x.page_content for x in content])[:2_000]\n",
    "summary = chain_summarization(trim_content, 'medium')\n",
    "summary"
   ]
  },
  {
   "cell_type": "code",
   "execution_count": 2,
   "metadata": {},
   "outputs": [],
   "source": [
    "content_yt = chain_youtube_summarization('https://www.youtube.com/watch?v=5p248yoa3oE&t=416s', 4)"
   ]
  },
  {
   "cell_type": "code",
   "execution_count": 3,
   "metadata": {},
   "outputs": [
    {
     "data": {
      "text/plain": [
       "'No vídeo, Dr. Andrew Ng, um renomado especialista em inteligência artificial (IA), discute as oportunidades e o futuro da tecnologia de IA, destacando sua natureza como uma \"tecnologia de propósito geral\", semelhante à eletricidade, que pode ser aplicada em diversas áreas. Ele enfatiza a importância de duas ferramentas principais de IA: aprendizado supervisionado e IA generativa, explicando que o aprendizado supervisionado é eficaz para rotular e classificar dados, como identificar e-mails de spam, enquanto a IA generativa, como os modelos de linguagem, pode criar texto e conteúdo a partir de prompts.\\n\\nNg compartilha experiências de projetos bem-sucedidos, como otimização de rotas de navios e sistemas de monitoramento de avaliações de restaurantes, demonstrando como o aprendizado supervisionado pode gerar valor significativo. Ele observa que, enquanto o aprendizado supervisionado já é uma área valiosa, a IA generativa está começando a expandir suas aplicações, permitindo que desenvolvedores criem soluções de IA rapidamente, reduzindo o tempo de desenvolvimento de meses para apenas dias ou semanas.\\n\\nO Dr. Ng também aborda as tendências futuras, mencionando que o valor da IA está concentrado principalmente em software de consumo e que há uma longa cauda de projetos menores fora desse espaço. Ele sugere que ferramentas de \"low-code\" e \"no-code\" podem democratizar o acesso à IA, permitindo que mais indústrias adotem a tecnologia de maneira personalizada, sem a necessidade de grandes equipes de engenheiros.\\n\\nPor fim, Ng discute os riscos e o impacto social da IA, incluindo preocupações sobre automação de empregos e a necessidade de abordar questões de viés e ética. Ele conclui que, apesar dos desafios, a IA representa uma oportunidade significativa para o futuro, e que a construção de aplicações concretas é um passo crucial para maximizar seu potencial em benefício da sociedade.'"
      ]
     },
     "execution_count": 3,
     "metadata": {},
     "output_type": "execute_result"
    }
   ],
   "source": [
    "content_yt"
   ]
  },
  {
   "cell_type": "code",
   "execution_count": null,
   "metadata": {},
   "outputs": [
    {
     "name": "stderr",
     "output_type": "stream",
     "text": [
      "[2024-11-18 14:01:47] [INFO    ] discord.client: logging in using static token\n",
      "[2024-11-18 14:01:49] [INFO    ] discord.gateway: Shard ID None has connected to Gateway (Session ID: 01fbc0981b8f0ea6fd7b9779204d7e67).\n"
     ]
    }
   ],
   "source": [
    "import discord\n",
    "from discord.ext import commands\n",
    "\n",
    "import nest_asyncio\n",
    "import os\n",
    "nest_asyncio.apply()\n",
    "from dotenv import load_dotenv\n",
    "\n",
    "load_dotenv()\n",
    "\n",
    "TOKEN = os.getenv('DISCORD_TOKEN')\n",
    "\n",
    "intents = discord.Intents.all()\n",
    "intents.message_content = True\n",
    "\n",
    "bot = commands.Bot(command_prefix='$', intents=intents)\n",
    "\n",
    "def get_metadata_from_message(message):\n",
    "    return {\n",
    "        'message_id': message.id,\n",
    "        'channel': message.channel,\n",
    "        'author': message.author,\n",
    "        'content': message.content,\n",
    "    }\n",
    "    \n",
    "@commands.command()\n",
    "async def get_summary(ctx, *args):\n",
    "    arguments = ', '.join(args)\n",
    "    \n",
    "    \n",
    "    await ctx.send(f'Processando o link...')\n",
    "    type_content = args[0]\n",
    "    url = args[1]\n",
    "    \n",
    "    await ctx.send(f'Type content: {args[0]}')\n",
    "    await ctx.send(f'URL: {args[1]}')\n",
    "    \n",
    "    try:\n",
    "        if type_content.lower() == 'web':\n",
    "            content = await web_loader(url)\n",
    "            trim_content = \"\\n\".join([x.page_content for x in content])[:2_000]\n",
    "            summary = chain_summarization(trim_content, 'medium')\n",
    "            await ctx.send(summary)\n",
    "            \n",
    "        elif type_content.lower() == 'youtube':\n",
    "            content_yt = chain_youtube_summarization(url, 4)\n",
    "            await ctx.send(content_yt)\n",
    "        \n",
    "    except Exception as e:\n",
    "        print(e)\n",
    "        await ctx.send(f'Erro ao acessar a página {url}')\n",
    "        return\n",
    "    \n",
    "bot.add_command(get_summary)\n",
    "bot.run(TOKEN)"
   ]
  }
 ],
 "metadata": {
  "kernelspec": {
   "display_name": "env",
   "language": "python",
   "name": "python3"
  },
  "language_info": {
   "codemirror_mode": {
    "name": "ipython",
    "version": 3
   },
   "file_extension": ".py",
   "mimetype": "text/x-python",
   "name": "python",
   "nbconvert_exporter": "python",
   "pygments_lexer": "ipython3",
   "version": "3.10.11"
  }
 },
 "nbformat": 4,
 "nbformat_minor": 2
}
