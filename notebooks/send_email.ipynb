{
 "cells": [
  {
   "cell_type": "code",
   "execution_count": 1,
   "metadata": {},
   "outputs": [],
   "source": [
    "import smtplib\n",
    "from email.mime.multipart import MIMEMultipart\n",
    "from email.mime.text import MIMEText\n",
    "import os\n",
    "from sendgrid import SendGridAPIClient\n",
    "from sendgrid.helpers.mail import Mail\n",
    "from dotenv import load_dotenv \n",
    "\n",
    "load_dotenv()\n",
    "\n",
    "\n",
    "def send_email(to_email: str,\n",
    "               subject: str,\n",
    "               body: str,\n",
    "               is_html: bool = True):\n",
    "    \n",
    "    EMAIL_ID = os.getenv('EMAIL_ID')\n",
    "    EMAIL_PASS = os.getenv('EMAIL_PASS')\n",
    "    msg = MIMEMultipart('alternative')\n",
    "    msg['From'] = EMAIL_ID\n",
    "    msg['To'] = to_email\n",
    "    msg['Subject'] = subject\n",
    "\n",
    "    if is_html:\n",
    "        msg.attach(MIMEText(body, 'html'))\n",
    "    else:\n",
    "        msg.attach(MIMEText(body, 'plain'))\n",
    "\n",
    "    with smtplib.SMTP_SSL('smtp.gmail.com', 465) as smtp:\n",
    "        smtp.login(EMAIL_ID, EMAIL_PASS)\n",
    "        smtp.send_message(msg)\n",
    "        smtp.quit()"
   ]
  },
  {
   "cell_type": "code",
   "execution_count": 2,
   "metadata": {},
   "outputs": [],
   "source": [
    "send_email('joaogvr@al.insper.edu.br', 'Teste', 'Teste de email')"
   ]
  },
  {
   "cell_type": "code",
   "execution_count": 6,
   "metadata": {},
   "outputs": [
    {
     "data": {
      "text/plain": [
       "['joaogvr@al.insper.edu.br',\n",
       " 'valentim@neroai.com.br',\n",
       " 'hudsonma@al.insper.edu.br']"
      ]
     },
     "execution_count": 6,
     "metadata": {},
     "output_type": "execute_result"
    }
   ],
   "source": [
    "with open('../emails.txt', 'r') as f:\n",
    "    emails = f.read().split('\\n')\n",
    "emails"
   ]
  },
  {
   "cell_type": "code",
   "execution_count": null,
   "metadata": {},
   "outputs": [],
   "source": []
  }
 ],
 "metadata": {
  "kernelspec": {
   "display_name": "env",
   "language": "python",
   "name": "python3"
  },
  "language_info": {
   "codemirror_mode": {
    "name": "ipython",
    "version": 3
   },
   "file_extension": ".py",
   "mimetype": "text/x-python",
   "name": "python",
   "nbconvert_exporter": "python",
   "pygments_lexer": "ipython3",
   "version": "3.10.11"
  }
 },
 "nbformat": 4,
 "nbformat_minor": 2
}
