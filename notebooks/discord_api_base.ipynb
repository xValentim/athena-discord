{
 "cells": [
  {
   "cell_type": "code",
   "execution_count": null,
   "metadata": {},
   "outputs": [
    {
     "name": "stderr",
     "output_type": "stream",
     "text": [
      "[2024-11-18 13:06:19] [INFO    ] discord.client: logging in using static token\n",
      "[2024-11-18 13:06:20] [INFO    ] discord.gateway: Shard ID None has connected to Gateway (Session ID: 27ba5f647311f305da93f0ba3f8a3a75).\n"
     ]
    }
   ],
   "source": [
    "import discord\n",
    "from discord.ext import commands\n",
    "\n",
    "import nest_asyncio\n",
    "import os\n",
    "nest_asyncio.apply()\n",
    "from dotenv import load_dotenv\n",
    "\n",
    "load_dotenv()\n",
    "\n",
    "TOKEN = os.getenv('DISCORD_TOKEN')\n",
    "\n",
    "intents = discord.Intents.all()\n",
    "intents.message_content = True\n",
    "\n",
    "client = discord.Client(intents=intents)\n",
    "\n",
    "bot = commands.Bot(command_prefix='$', intents=intents)\n",
    "\n",
    "def get_metadata_from_message(message):\n",
    "    return {\n",
    "        'message_id': message.id,\n",
    "        'channel': message.channel,\n",
    "        'author': message.author,\n",
    "        'content': message.content,\n",
    "    }\n",
    "    \n",
    "# @bot.command()\n",
    "# async def test(ctx, arg1, arg2):\n",
    "#     await ctx.send(f'You passed {arg1} and {arg2}')\n",
    "\n",
    "@commands.command()\n",
    "async def get_summary(ctx, *args):\n",
    "    arguments = ', '.join(args)\n",
    "    await ctx.send(f'{len(args)} arguments: {arguments}')    \n",
    "\n",
    "@bot.event\n",
    "async def on_ready():\n",
    "    print(f'We have logged in as {bot.user}')\n",
    "\n",
    "@bot.event\n",
    "async def on_message(message):\n",
    "    if message.author == bot.user:\n",
    "        return\n",
    "\n",
    "    if message.content.startswith('$hello'):\n",
    "        print(message)\n",
    "        print(get_metadata_from_message(message))\n",
    "        await message.channel.send('Hello!')\n",
    "    \n",
    "bot.add_command(get_summary)\n",
    "client.run(TOKEN)"
   ]
  },
  {
   "cell_type": "code",
   "execution_count": 1,
   "metadata": {},
   "outputs": [
    {
     "name": "stderr",
     "output_type": "stream",
     "text": [
      "USER_AGENT environment variable not set, consider setting it to identify your requests.\n"
     ]
    }
   ],
   "source": [
    "from langchain.prompts import ChatPromptTemplate \n",
    "from langchain_openai import ChatOpenAI\n",
    "from langchain_core.output_parsers import StrOutputParser\n",
    "from langchain_community.document_loaders import YoutubeLoader\n",
    "from langchain_community.document_loaders import WebBaseLoader\n",
    "import bs4\n",
    "from operator import itemgetter\n",
    "import markdown\n",
    "import datetime\n",
    "import pytube\n",
    "import os\n",
    "\n",
    "async def web_loader(url: str):\n",
    "    loader = WebBaseLoader(web_paths=[url])\n",
    "    docs = []\n",
    "    async for doc in loader.alazy_load():\n",
    "        docs.append(doc)\n",
    "    return docs\n",
    "\n",
    "def chain_summarization(content: str, size: str = 'medium'):\n",
    "    \n",
    "    \n",
    "    if size == 'small':\n",
    "        messages = [('system', 'Você é um assistente virtual com o objetivo de sumarizar textos de maneira clara, didática e objetiva. Sua tarefa é receber o conteúdo de uma página web e gerar uma sumarização curta que destaque os principais pontos, explicando-os de forma acessível. A ênfase deve ser na simplicidade, garantindo que o usuário compreenda todos os conceitos e informações chave. Ao fazer a sumarização, priorize a clareza, organização e a explicação de cada ponto central do conteúdo enviado.'), ('user', 'aqui está o conteudo {texto}')] \n",
    "    elif size == 'medium':\n",
    "        messages = [('system', 'Você é um assistente virtual com o objetivo de sumarizar textos de maneira clara, didática e objetiva. Sua tarefa é receber o conteúdo de uma página web e gerar uma sumarização de tamanho médio que destaque os principais pontos, explicando-os de forma acessível. A ênfase deve ser na simplicidade, garantindo que o usuário compreenda todos os conceitos e informações chave. Ao fazer a sumarização, priorize a clareza, organização e a explicação de cada ponto central do conteúdo enviado.'), ('user', 'aqui está o conteudo {texto}')]\n",
    "    elif size == 'large':\n",
    "        messages = [('system', 'Você é um assistente virtual com o objetivo de sumarizar textos de maneira clara, didática e objetiva. Sua tarefa é receber o conteúdo de uma página web e gerar uma sumarização longa e detalhada que destaque os principais pontos, explicando-os de forma acessível. A ênfase deve ser na simplicidade, garantindo que o usuário compreenda todos os conceitos e informações chave. Ao fazer a sumarização, priorize a clareza, organização e a explicação de cada ponto central do conteúdo enviado.'), ('user', 'aqui está o conteudo {texto}.')]\n",
    "\n",
    "    prompt = ChatPromptTemplate.from_messages(messages)\n",
    "    llm = ChatOpenAI(model='gpt-4o-mini', api_key=os.getenv('OPENAI_API_KEY'))\n",
    "    chain = (\n",
    "        {\n",
    "            'texto': itemgetter('texto')\n",
    "        }\n",
    "        |prompt\n",
    "        | llm\n",
    "        |StrOutputParser()\n",
    "    )\n",
    "\n",
    "    resume = chain.invoke({'texto': content})\n",
    "    return resume"
   ]
  },
  {
   "cell_type": "code",
   "execution_count": 3,
   "metadata": {},
   "outputs": [],
   "source": [
    "# \"\\n\".join([x.page_content for x in content])"
   ]
  },
  {
   "cell_type": "code",
   "execution_count": 4,
   "metadata": {},
   "outputs": [
    {
     "data": {
      "text/plain": [
       "'O conteúdo analisado refere-se ao portal UOL, que se apresenta como um \"universo online\" oferecendo uma variedade de serviços e informações. Aqui estão os principais pontos abordados:\\n\\n1. **Serviços Oferecidos**: O UOL disponibiliza diversos produtos e serviços, como UOL Play, PagBank, UOL Host e UOL Ads, que abrangem entretenimento, finanças, hospedagem e publicidade online. Isso permite que os usuários tenham acesso a uma gama de soluções em um único lugar.\\n\\n2. **Conteúdo Exclusivo**: O portal oferece uma assinatura que garante acesso ilimitado a conteúdo exclusivo, permitindo que os assinantes desfrutem de informações e serviços diferenciados.\\n\\n3. **Atendimento ao Cliente**: O UOL também disponibiliza canais de atendimento, como um número de telefone para contato, facilitando a comunicação com os usuários para suporte e esclarecimentos.\\n\\n4. **Variedade de Temas**: O site é dividido em várias seções, cobrindo temas como notícias, entretenimento, economia, saúde, esportes, e muito mais, o que proporciona um acesso abrangente a informações relevantes para os usuários.\\n\\n5. **Interatividade e Comunidade**: A plataforma inclui um bate-papo e outras ferramentas que promovem a interação entre usuários, fortalecendo um senso de comunidade online.\\n\\nEsse resumo destaca os principais aspectos do UOL, mostrando como o portal se posiciona como um hub de informações e serviços variados para seus usuários.'"
      ]
     },
     "execution_count": 4,
     "metadata": {},
     "output_type": "execute_result"
    }
   ],
   "source": [
    "content = await web_loader('https://www.uol.com.br')\n",
    "trim_content = \"\\n\".join([x.page_content for x in content])[:2_000]\n",
    "summary = chain_summarization(trim_content, 'medium')\n",
    "summary"
   ]
  },
  {
   "cell_type": "code",
   "execution_count": null,
   "metadata": {},
   "outputs": [
    {
     "name": "stderr",
     "output_type": "stream",
     "text": [
      "[2024-11-18 13:16:57] [INFO    ] discord.client: logging in using static token\n",
      "[2024-11-18 13:16:58] [INFO    ] discord.gateway: Shard ID None has connected to Gateway (Session ID: 3c78503aa97960dababd28e3dc468056).\n"
     ]
    }
   ],
   "source": [
    "import discord\n",
    "from discord.ext import commands\n",
    "\n",
    "import nest_asyncio\n",
    "import os\n",
    "nest_asyncio.apply()\n",
    "from dotenv import load_dotenv\n",
    "\n",
    "load_dotenv()\n",
    "\n",
    "TOKEN = os.getenv('DISCORD_TOKEN')\n",
    "\n",
    "intents = discord.Intents.all()\n",
    "intents.message_content = True\n",
    "\n",
    "bot = commands.Bot(command_prefix='$', intents=intents)\n",
    "\n",
    "def get_metadata_from_message(message):\n",
    "    return {\n",
    "        'message_id': message.id,\n",
    "        'channel': message.channel,\n",
    "        'author': message.author,\n",
    "        'content': message.content,\n",
    "    }\n",
    "    \n",
    "@commands.command()\n",
    "async def get_summary(ctx, *args):\n",
    "    arguments = ', '.join(args)\n",
    "    \n",
    "    \n",
    "    await ctx.send(f'Processando o link...')\n",
    "    url = args[0]\n",
    "    await ctx.send(f'Scrapping url: {args[0]}')\n",
    "    try:\n",
    "        content = await web_loader(url)\n",
    "        trim_content = \"\\n\".join([x.page_content for x in content])[:2_000]\n",
    "        summary = chain_summarization(trim_content, 'medium')\n",
    "        await ctx.send(summary)\n",
    "    except:\n",
    "        await ctx.send(f'Erro ao acessar a página {url}')\n",
    "        return\n",
    "    \n",
    "bot.add_command(get_summary)\n",
    "bot.run(TOKEN)"
   ]
  },
  {
   "cell_type": "code",
   "execution_count": null,
   "metadata": {},
   "outputs": [],
   "source": []
  }
 ],
 "metadata": {
  "kernelspec": {
   "display_name": "env",
   "language": "python",
   "name": "python3"
  },
  "language_info": {
   "codemirror_mode": {
    "name": "ipython",
    "version": 3
   },
   "file_extension": ".py",
   "mimetype": "text/x-python",
   "name": "python",
   "nbconvert_exporter": "python",
   "pygments_lexer": "ipython3",
   "version": "3.10.11"
  }
 },
 "nbformat": 4,
 "nbformat_minor": 2
}
