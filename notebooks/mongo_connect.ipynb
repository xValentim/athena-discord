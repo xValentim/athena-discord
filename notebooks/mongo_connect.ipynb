{
 "cells": [
  {
   "cell_type": "code",
   "execution_count": 30,
   "metadata": {},
   "outputs": [
    {
     "name": "stdout",
     "output_type": "stream",
     "text": [
      "Pinged your deployment. You successfully connected to MongoDB!\n"
     ]
    }
   ],
   "source": [
    "from pymongo.mongo_client import MongoClient\n",
    "from pymongo.server_api import ServerApi\n",
    "from dotenv import load_dotenv\n",
    "import os\n",
    "\n",
    "load_dotenv()\n",
    "\n",
    "uri = os.getenv(\"MONGODB_URI\")\n",
    "client = MongoClient(uri, server_api=ServerApi('1'))\n",
    "\n",
    "try:\n",
    "    client.admin.command('ping')\n",
    "    print(\"Pinged your deployment. You successfully connected to MongoDB!\")\n",
    "except Exception as e:\n",
    "    print(e)"
   ]
  },
  {
   "cell_type": "code",
   "execution_count": 6,
   "metadata": {},
   "outputs": [
    {
     "name": "stderr",
     "output_type": "stream",
     "text": [
      "USER_AGENT environment variable not set, consider setting it to identify your requests.\n"
     ]
    }
   ],
   "source": [
    "from langchain.prompts import ChatPromptTemplate \n",
    "from langchain_openai import ChatOpenAI\n",
    "from langchain_core.output_parsers import StrOutputParser\n",
    "from langchain_community.document_loaders import YoutubeLoader\n",
    "from langchain_community.document_loaders import WebBaseLoader\n",
    "from youtube_transcript_api import YouTubeTranscriptApi\n",
    "from langchain_core.runnables import RunnablePassthrough, RunnableParallel, Runnable\n",
    "import bs4\n",
    "from operator import itemgetter\n",
    "import markdown\n",
    "import datetime\n",
    "import pytube\n",
    "import os\n",
    "\n",
    "async def web_loader(url: str):\n",
    "    loader = WebBaseLoader(web_paths=[url])\n",
    "    docs = []\n",
    "    async for doc in loader.alazy_load():\n",
    "        docs.append(doc)\n",
    "    return docs\n",
    "\n",
    "def chain_summarization(content: str, size: str = 'medium'):\n",
    "    \n",
    "    if size == 'small':\n",
    "        messages = [('system', 'Você é um assistente virtual com o objetivo de sumarizar textos de maneira clara, didática e objetiva. Sua tarefa é receber o conteúdo de uma página web e gerar uma sumarização curta que destaque os principais pontos, explicando-os de forma acessível. A ênfase deve ser na simplicidade, garantindo que o usuário compreenda todos os conceitos e informações chave. Ao fazer a sumarização, priorize a clareza, organização e a explicação de cada ponto central do conteúdo enviado.'), ('user', 'aqui está o conteudo {texto}')] \n",
    "    elif size == 'medium':\n",
    "        messages = [('system', 'Você é um assistente virtual com o objetivo de sumarizar textos de maneira clara, didática e objetiva. Sua tarefa é receber o conteúdo de uma página web e gerar uma sumarização de tamanho médio que destaque os principais pontos, explicando-os de forma acessível. A ênfase deve ser na simplicidade, garantindo que o usuário compreenda todos os conceitos e informações chave. Ao fazer a sumarização, priorize a clareza, organização e a explicação de cada ponto central do conteúdo enviado.'), ('user', 'aqui está o conteudo {texto}')]\n",
    "    elif size == 'large':\n",
    "        messages = [('system', 'Você é um assistente virtual com o objetivo de sumarizar textos de maneira clara, didática e objetiva. Sua tarefa é receber o conteúdo de uma página web e gerar uma sumarização longa e detalhada que destaque os principais pontos, explicando-os de forma acessível. A ênfase deve ser na simplicidade, garantindo que o usuário compreenda todos os conceitos e informações chave. Ao fazer a sumarização, priorize a clareza, organização e a explicação de cada ponto central do conteúdo enviado.'), ('user', 'aqui está o conteudo {texto}.')]\n",
    "\n",
    "    prompt = ChatPromptTemplate.from_messages(messages)\n",
    "    llm = ChatOpenAI(model='gpt-4o-mini', api_key=os.getenv('OPENAI_API_KEY'))\n",
    "    chain = (\n",
    "        {\n",
    "            'texto': itemgetter('texto')\n",
    "        }\n",
    "        |prompt\n",
    "        | llm\n",
    "        |StrOutputParser()\n",
    "    )\n",
    "\n",
    "    resume = chain.invoke({'texto': content})\n",
    "    return resume"
   ]
  },
  {
   "cell_type": "code",
   "execution_count": null,
   "metadata": {},
   "outputs": [
    {
     "data": {
      "text/plain": [
       "'\\nSchema pra guardar:\\n- url\\n- content_type (web, youtube)\\n- original_content (clipado [:3_000])\\n- summarization \\n'"
      ]
     },
     "execution_count": 7,
     "metadata": {},
     "output_type": "execute_result"
    }
   ],
   "source": [
    "'''\n",
    "Schema pra guardar:\n",
    "- url\n",
    "- content_type (web, youtube)\n",
    "- original_content (clipado [:3_000])\n",
    "- summarization \n",
    "- who_added\n",
    "'''"
   ]
  },
  {
   "cell_type": "code",
   "execution_count": 52,
   "metadata": {},
   "outputs": [],
   "source": [
    "from datetime import datetime"
   ]
  },
  {
   "cell_type": "code",
   "execution_count": 42,
   "metadata": {},
   "outputs": [],
   "source": [
    "url = 'https://www.uol.com.br/'\n",
    "content_type = 'web'\n",
    "original_content = await web_loader(url)\n",
    "original_content_str = \"\\n\".join([x.page_content for x in original_content])[:3_000]\n",
    "summarization = chain_summarization(original_content_str)\n",
    "who_added = 'xvalentim'"
   ]
  },
  {
   "cell_type": "code",
   "execution_count": 43,
   "metadata": {},
   "outputs": [],
   "source": [
    "load_dotenv()\n",
    "\n",
    "DB_NAME = os.getenv('DB_NAME')\n",
    "COLLECTION_NAME = os.getenv('COLLECTION_NAME')\n",
    "URI = os.getenv('MONGODB_URI')"
   ]
  },
  {
   "cell_type": "code",
   "execution_count": 44,
   "metadata": {},
   "outputs": [],
   "source": [
    "collection = client[DB_NAME][COLLECTION_NAME]"
   ]
  },
  {
   "cell_type": "code",
   "execution_count": 45,
   "metadata": {},
   "outputs": [],
   "source": [
    "item_details = collection.find()\n",
    "for item in item_details:\n",
    "   # This does not give a very readable output\n",
    "   print(item)"
   ]
  },
  {
   "cell_type": "code",
   "execution_count": null,
   "metadata": {},
   "outputs": [
    {
     "data": {
      "text/plain": [
       "InsertOneResult(ObjectId('673b7dbc22ef674d019cee04'), acknowledged=True)"
      ]
     },
     "execution_count": 48,
     "metadata": {},
     "output_type": "execute_result"
    }
   ],
   "source": [
    "collection.insert_one({\n",
    "    'url': url,\n",
    "    'content_type': content_type,\n",
    "    'original_content': original_content_str,\n",
    "    'summarization': summarization,\n",
    "    'who_added': who_added,\n",
    "    'date_added': datetime.datetime.now()\n",
    "})"
   ]
  },
  {
   "cell_type": "code",
   "execution_count": 49,
   "metadata": {},
   "outputs": [
    {
     "name": "stdout",
     "output_type": "stream",
     "text": [
      "{'_id': ObjectId('673b7dbc22ef674d019cee04'), 'url': 'https://www.uol.com.br/', 'content_type': 'web', 'original_content': 'UOL - Seu universo online\\n\\n\\n\\n\\n\\n\\n\\n\\n\\n\\n\\n\\n\\n\\n\\n\\n\\n\\n\\n\\n\\n\\n\\n\\n\\n\\n\\n\\n\\n\\n\\n\\n\\n\\n\\n\\n\\n\\n\\n\\n\\n\\n\\n\\n\\n\\n\\n\\n\\n\\n\\n\\n\\n\\n\\n\\n\\n\\n\\n\\n\\n\\n\\n\\n\\n\\n\\n\\n\\n\\n\\n\\n\\n\\n\\n\\n\\n\\n\\n\\n\\n\\n\\n\\n\\n\\n\\n\\n          Ingresso.com\\n        \\n          Bate-Papo\\n        \\n          UOL HOST\\n        \\n          Passei Direto\\n        \\n          UOL Play\\n        \\n          PagBank\\n        \\n          UOL ADS\\n        \\n          Sac\\n        \\n          Email\\n        \\n          ASSINE UOL\\n        \\n      UOL - Seu universo online\\n    PesquisarSiteProdutosSiteConteúdo ExclusivoSiteUOL MailSiteUOL PlaySiteUFCSiteChampions LeagueSiteNBASiteBate-Papo UOLSiteUOL Leia+SiteUOL AntivírusSiteUOL Assistência TécnicaSiteUOL ResolveSiteUOL WI-FISiteUOL SexoSiteClube UOLSiteUOL adsSiteUOL HostSiteUOL Meu NegócioSiteUOL Afiliados\\n    Assine UOL\\n  \\n    Tenha acesso ilimitado ao conteúdo exclusivo e a produtos UOL\\n  \\n    Compre pelo\\n    WhatsApp\\n    ou ligue para nós\\n  \\n      4003 6118\\n    \\n      capitais\\n    \\n      0800 703 3000\\n    \\n      demais localidades\\n    SiteNotíciasSiteColunasSiteCotidianoSiteEducaçãoSiteEleiçõesSiteGoverno LulaSiteInternacionalSitePrevisão do tempoSiteSaúdeSiteUOL ConfereSiteNewslettersSiteÚltimas notíciasSiteLoteriasSiteMega SenaSiteQuinaSiteLotofácilSiteLotomaniaSiteOutras loteriasSitePodcastsSitePosse de BolaSiteSexoterapiaSiteSplash Vê TVSiteUOL EntrevistaSiteUOL PrimeSiteUOL LíderesSiteMídia e MarketingSitePolíticaSiteColunasSiteUOL ConfereSiteGoverno LulaSiteCarrosSiteTabela FipeSiteLançamentos e MercadoSiteAvaliação de CarrosSiteComparativoSiteLegislação, Multas e TrânsitoSiteManutenção e SegurançaSiteCarros curiososSiteCarro dos famososSiteVídeosSiteWeb StoriesSiteÚltimas notíciasSiteNewslettersSiteEconomiaSiteCotaçõesSiteInvestimentosSiteEmpresas e NegóciosSiteEmpreendedorismoSiteDinheiro e RendaSiteConcursosSiteGuia de ComprasSiteGuia de EconomiaSiteImposto de RendaSiteLíderesSiteMídia e MarketingSiteColunasSiteNewslettersSiteVídeosSiteÚltimas notíciasSiteCotaçõesSiteDólarSiteEuroSiteOutras moedasSiteBolsa de ValoresSiteBitcoin e CriptomoedasSiteImposto de RendaSiteDownload do programaSiteTira-dúvidasSiteÚltimas notíciasSiteGoverno e CongressoSiteBolsa FamíliaSiteINSSSitePIS - Pagamentos e CalendárioSitePreço dos combustíveisSiteInflação no Brasil e MundoSiteBanco CentralSiteSelic e JurosSiteFolhaSitePolíticaSiteEconomiaSiteMundoSiteCotidianoSiteEquilíbrioSiteCulturaSiteF5SiteEsporteSitePodcastsSiteColunas e blogsSiteEsporteSiteFutebolSiteJogos de HojeSiteBrasileirãoSiteSérie BSiteCopa do BrasilSiteCopa Sul-AmericanaSiteEliminatórias Sul-AmericanasSiteLibertadoresSiteLiga dos CampeõesSiteCampeonato InglêsSiteMais campeonatosSiteMercado da BolaSiteMais EsporteSiteFórmula 1SiteMMASiteFutsalSiteNBB Caixa 2024/25SiteLBF - Basquete femininoSiteTênisSiteReportagens especiaisSiteColunasSiteVídeosSiteÚltimas notícias\\n    Times\\n  SiteAssine e veja ao vivoSiteUFCSiteChampions LeagueSiteNBASiteSplashSiteCarnavalSiteA FazendaSiteBBBSiteCelebsSiteFilmesSiteSériesSiteMúsicaSiteShows e FestivaisSiteAba AnônimaSiteTelevisãoSiteNovelasSiteReality ', 'summarization': 'O conteúdo do UOL destaca a variedade de serviços e produtos oferecidos pela plataforma, que serve como um portal online abrangente. Aqui estão os principais pontos:\\n\\n1. **Acesso a Conteúdo Exclusivo**: O UOL oferece uma assinatura que permite acesso ilimitado a artigos, vídeos e outros conteúdos exclusivos, enriquecendo a experiência do usuário.\\n\\n2. **Variedade de Serviços**: A plataforma inclui uma gama de serviços, como UOL Play (streaming), PagBank (serviços financeiros), e UOL Host (hospedagem de sites), além de suporte técnico e assistência.\\n\\n3. **Notícias e Informações**: O site possui seções dedicadas a notícias, incluindo política, economia, saúde e cultura, permitindo que os usuários se mantenham informados sobre diversos assuntos atuais.\\n\\n4. **Entretenimento**: O UOL também abrange áreas de entretenimento, como esportes (futebol, Fórmula 1, etc.), filmes, séries e eventos ao vivo, atendendo a uma ampla gama de interesses.\\n\\n5. **Facilidade de Contato**: Há opções para compra de produtos e serviços via WhatsApp ou telefone, facilitando o acesso e suporte ao cliente.\\n\\n6. **Recursos Educativos e Financeiros**: O site oferece ferramentas e guias para aprendizado e gestão financeira, como informações sobre impostos e investimentos.\\n\\nEm resumo, o UOL se apresenta como um hub completo para usuários que buscam não apenas notícias, mas também entretenimento, serviços financeiros e um leque variado de conteúdos.', 'who_added': 'xvalentim'}\n"
     ]
    }
   ],
   "source": [
    "item_details = collection.find()\n",
    "for item in item_details:\n",
    "   # This does not give a very readable output\n",
    "   print(item)"
   ]
  },
  {
   "cell_type": "code",
   "execution_count": 50,
   "metadata": {},
   "outputs": [
    {
     "data": {
      "text/plain": [
       "DeleteResult({'n': 1, 'electionId': ObjectId('7fffffff0000000000000010'), 'opTime': {'ts': Timestamp(1731952578, 4), 't': 16}, 'ok': 1.0, '$clusterTime': {'clusterTime': Timestamp(1731952578, 4), 'signature': {'hash': b'\\xddj\\xb2\\xfd\\xec\\xf8\\xbf(R\\x18\\xd3\\x94\\xe4U\\xa6^\\x94e\\xab\\xe1', 'keyId': 7406339075210215426}}, 'operationTime': Timestamp(1731952578, 4)}, acknowledged=True)"
      ]
     },
     "execution_count": 50,
     "metadata": {},
     "output_type": "execute_result"
    }
   ],
   "source": [
    "collection.delete_one({'url': url})"
   ]
  },
  {
   "cell_type": "code",
   "execution_count": 53,
   "metadata": {},
   "outputs": [],
   "source": [
    "item_details = collection.find()\n",
    "for item in item_details:\n",
    "   # This does not give a very readable output\n",
    "   print(item)"
   ]
  },
  {
   "cell_type": "code",
   "execution_count": 143,
   "metadata": {},
   "outputs": [],
   "source": [
    "import datetime\n",
    "\n",
    "def check_if_url_exists(url: str):\n",
    "    item_details = collection.find({'url': url})\n",
    "    for item in item_details:\n",
    "        return True\n",
    "    return False\n",
    "\n",
    "def get_only_window_old_items(window: int, granularity: str):\n",
    "    if granularity == 'hours':\n",
    "        item_details = collection.find({'date_added': {'$gte': datetime.datetime.now() - datetime.timedelta(hours=window)}})\n",
    "    elif granularity == 'days':\n",
    "        item_details = collection.find({'date_added': {'$gte': datetime.datetime.now() - datetime.timedelta(days=window)}})\n",
    "    elif granularity == 'minutes':\n",
    "        item_details = collection.find({'date_added': {'$gte': datetime.datetime.now() - datetime.timedelta(minutes=window)}})\n",
    "    else:\n",
    "        return None\n",
    "    items = []\n",
    "    for item in item_details:\n",
    "        items.append(item)\n",
    "    return items\n",
    "\n",
    "def format_object(url, content_type, original_content, summarization, who_added, date_added):\n",
    "    return {\n",
    "        'url': url,\n",
    "        'content_type': content_type,\n",
    "        'original_content': original_content,\n",
    "        'summarization': summarization,\n",
    "        'who_added': who_added,\n",
    "        'date_added': date_added\n",
    "    }\n",
    "    \n",
    "def count_items_per_user(username: str, window_time: int=10, granularity: str='minutes'):\n",
    "    if granularity == 'hours':\n",
    "        item_details = collection.find({'who_added': username, \n",
    "                                    'date_added': {'$gte': datetime.datetime.now() - datetime.timedelta(hours=window_time)}})\n",
    "    elif granularity == 'days':\n",
    "        item_details = collection.find({'who_added': username, \n",
    "                                    'date_added': {'$gte': datetime.datetime.now() - datetime.timedelta(days=10)}})\n",
    "    elif granularity == 'minutes':\n",
    "        item_details = collection.find({'who_added': username, \n",
    "                                    'date_added': {'$gte': datetime.datetime.now() - datetime.timedelta(minutes=window_time)}})\n",
    "    count = 0\n",
    "    for item in item_details:\n",
    "        count += 1\n",
    "    return count\n",
    "\n",
    "async def get_metadata(url: str, content_type: str, username: str):\n",
    "    \n",
    "    if content_type == 'web':\n",
    "        original_content = await web_loader(url)\n",
    "        original_content_str = \"\\n\".join([x.page_content for x in original_content])[:3_000]\n",
    "        summarization = chain_summarization(original_content_str)\n",
    "        return format_object(url, content_type, original_content_str, summarization, username, datetime.datetime.now())\n",
    "    elif content_type == 'youtube':\n",
    "        return None\n",
    "    else:\n",
    "        return None\n",
    "\n",
    "def user_can_add_content(username: str, window_time: int=10, granularity: str='minutes', limit: int=5):\n",
    "    return count_items_per_user(username, window_time, granularity) < limit\n",
    "    \n",
    "def insert_objects(objects, window_time: int=10, granularity: str='minutes'):\n",
    "    for obj in objects:\n",
    "        username = obj['who_added']\n",
    "        url_exists = check_if_url_exists(obj['url'])\n",
    "        user_can_add = user_can_add_content(username)\n",
    "        if not url_exists and user_can_add:\n",
    "            collection.insert_one(obj)\n",
    "        else:\n",
    "            if not user_can_add:\n",
    "                print('User cannot add more content')\n",
    "            if url_exists:\n",
    "                print('URL already exists')\n",
    "                \n",
    "\n",
    "def format_text(x: dict):\n",
    "    return f'URL: {x[\"url\"]}\\nTipo de conteúdo: {x[\"content_type\"]}\\nQuem adicionou: {x[\"who_added\"]}\\nData de adição: {x[\"date_added\"]}\\nConteudo resumido: {x[\"summarization\"]}\\n'                \n",
    "\n",
    "def create_newsletter():\n",
    "    all_content = \"\\n\".join([format_text(x) for x in get_only_window_old_items(window=1, granularity='days')])\n",
    "    \n",
    "    messages = [\n",
    "        ('system', 'Você é um assistente virtual que vai receber uma lista de conteúdos adicionados por alunos para que uma newsletter fosse criada. Sua tarefa é organizar esses conteúdos em uma newsletter, destacando os principais pontos de cada conteúdo e explicando-os de forma acessível. A ênfase deve ser na simplicidade, garantindo que o usuário compreenda todos os conceitos e informações chave. Ao fazer a newsletter, priorize a clareza, organização e a explicação de cada ponto central do conteúdo enviado.'), \n",
    "        ('user', 'aqui está o conteudo {all_content}')] \n",
    "    prompt = ChatPromptTemplate.from_messages(messages)\n",
    "    llm = ChatOpenAI(model='gpt-4o-mini', api_key=os.getenv('OPENAI_API_KEY'))\n",
    "    chain = (\n",
    "        {\n",
    "            'all_content': itemgetter('all_content')\n",
    "        }\n",
    "        | prompt\n",
    "        | llm\n",
    "        | StrOutputParser()\n",
    "    )\n",
    "    return chain.invoke({'all_content': all_content})"
   ]
  },
  {
   "cell_type": "code",
   "execution_count": 137,
   "metadata": {},
   "outputs": [
    {
     "data": {
      "text/plain": [
       "['URL: https://www.uol.com.br/\\nTipo de conteúdo: web\\nQuem adicionou: xvalentim\\nData de adição: 2024-11-18 15:40:22.164000\\nConteudo resumido: O conteúdo apresentado é uma visão geral do portal UOL, que oferece uma ampla gama de serviços e informações. Aqui estão os principais pontos destacados:\\n\\n1. **Serviços e Produtos**: O UOL disponibiliza diversas ferramentas e serviços, incluindo UOL Play (streaming de vídeos), PagBank (serviços bancários), UOL Host (hospedagem de sites), entre outros. Isso permite que os usuários acessem conteúdos e serviços variados em um único lugar.\\n\\n2. **Assinaturas**: Há uma opção de assinatura que oferece acesso ilimitado a conteúdos exclusivos e produtos do UOL. Os usuários podem se inscrever facilmente pelo site ou por meio de contato telefônico.\\n\\n3. **Conteúdo Diversificado**: O portal abrange uma vasta gama de temas, como notícias, esportes, cultura, economia, e entretenimento. Isso significa que os visitantes podem encontrar informações sobre política, saúde, educação, e até mesmo apostas em loterias.\\n\\n4. **Interatividade**: O UOL também promove a interatividade por meio de chats, podcasts, e seções de comentários, permitindo que os usuários participem ativamente das discussões.\\n\\n5. **Facilidade de Acesso**: O site é organizado em seções que permitem fácil navegação, tanto para quem busca informações específicas quanto para aqueles que desejam explorar diferentes tópicos.\\n\\nEsses elementos fazem do UOL um portal abrangente, que atende a diversas necessidades de informação e entretenimento dos usuários.\\n',\n",
       " 'URL: https://www.poder360.com.br/poder-economia/governo-estuda-acabar-com-pensao-para-militares-expulsos-do-exercito/\\nTipo de conteúdo: web\\nQuem adicionou: xvalentim\\nData de adição: 2024-11-18 15:40:25.177000\\nConteudo resumido: O governo brasileiro está considerando a possibilidade de eliminar a pensão destinada aos familiares de militares que foram expulsos do Exército. Essa proposta surge como parte de um esforço maior para reduzir os gastos públicos. A ideia foi discutida em uma reunião entre os ministérios da Fazenda e da Defesa.\\n\\nEmbora a intenção inicial fosse manter as Forças Armadas sem mudanças, o presidente Luiz Inácio Lula da Silva solicitou que essa questão fosse revisitada. A medida está inserida em um contexto de necessidade de cortes orçamentários, e o governo enfrenta um calendário apertado para implementar essas mudanças.\\n\\nEm resumo, essa proposta de acabar com a pensão para militares expulsos é uma das estratégias que o governo está avaliando para equilibrar as contas públicas e reduzir despesas.\\n',\n",
       " 'URL: https://www.poder360.com.br/poder-justica/brasil-seria-pior-sem-o-inquerito-das-fake-news-diz-gilmar/\\nTipo de conteúdo: web\\nQuem adicionou: xvalentim\\nData de adição: 2024-11-18 15:40:28.426000\\nConteudo resumido: O ministro Gilmar Mendes, do Supremo Tribunal Federal (STF), destacou a importância do inquérito das fake news, afirmando que o Brasil seria \"pior\" sem ele. Essa declaração foi feita durante um evento em Mato Grosso que celebrou os 35 anos da Constituição do Estado. Mendes elogiou o trabalho do ministro Alexandre de Moraes, que é o relator do inquérito. \\n\\nO inquérito tem como objetivo investigar a disseminação de notícias falsas, um tema considerado crucial em tempos em que a desinformação pode impactar a democracia e a sociedade. Gilmar Mendes mencionou que o país está enfrentando \"tempos estranhos e desafiadores\", ressaltando a necessidade de mecanismos que combatam a propagação de informações enganosas.\\n\\nEssencialmente, a mensagem central é que o inquérito é visto como uma ferramenta importante para proteger a integridade das informações no Brasil, especialmente em um contexto onde as fake news podem influenciar decisões e opiniões públicas.\\n',\n",
       " 'URL: https://www.poder360.com.br/poder-congresso/cpi-das-bets-quer-convocar-haddad-jojo-todynho-e-wesley-safadao/\\nTipo de conteúdo: web\\nQuem adicionou: xvalentim\\nData de adição: 2024-11-18 17:47:44.718000\\nConteudo resumido: A CPI das Bets, que se dedicará a investigar crimes financeiros ligados a apostas esportivas online, está programada para iniciar seus trabalhos no dia 19 de novembro de 2024. A Comissão Parlamentar de Inquérito tem uma lista de 168 pedidos de convocação, entre os quais se destacam figuras conhecidas como o ministro Fernando Haddad, a cantora Jojo Todynho e o cantor Wesley Safadão, além do presidente da CBF, Ednaldo Rodrigues, e do humorista Tirulipa.\\n\\nA relatora da CPI, Soraya Thronicke, é responsável por esses pedidos de convocação, que visam coletar depoimentos para esclarecer a influência e as possíveis irregularidades no setor de apostas online. A CPI busca entender melhor como as apostas esportivas estão sendo conduzidas e se há alguma relação com crimes financeiros, como lavagem de dinheiro ou fraudes. \\n\\nEsse movimento reflete uma preocupação crescente com a regulamentação e supervisão das apostas no Brasil, especialmente à medida que esse mercado se expande.\\n',\n",
       " 'URL: https://www.poder360.com.br/poder-sportsmkt/beyonce-fara-o-show-do-intervalo-do-jogo-de-natal-da-nfl/\\nTipo de conteúdo: web\\nQuem adicionou: xvalentim\\nData de adição: 2024-11-18 17:47:58.522000\\nConteudo resumido: Beyoncé será a atração do show do intervalo no jogo de Natal da NFL, que ocorrerá entre os times Houston Texans e Baltimore Ravens. O anúncio foi feito pela Netflix e o jogo será transmitido ao vivo, começando às 18h30, horário de Brasília. Este será o terceiro show de intervalo em que a cantora se apresenta, tendo participado anteriormente dos Super Bowls de 2013 e 2016. Espera-se que a performance inclua convidados especiais, aumentando ainda mais a expectativa em torno do evento.\\n',\n",
       " 'URL: https://www.poder360.com.br/poder-internacional/depois-de-se-opor-a-declaracao-milei-e-recebido-por-lula-no-g20/\\nTipo de conteúdo: web\\nQuem adicionou: xvalentim\\nData de adição: 2024-11-18 17:49:06.366000\\nConteudo resumido: No encontro do G20, o presidente brasileiro Luiz Inácio Lula da Silva recebeu o presidente argentino Javier Milei, que havia se oposto a diversos temas debatidos na cúpula. Essa oposição de Milei pode resultar em complicações para a aprovação de um documento conjunto, o que representaria um fracasso diplomático para o Brasil.\\n\\nO cumprimento entre os dois líderes foi descrito como frio e distante, e a foto oficial, que os retratou ao lado de suas respectivas primeiras-damas, foi rápida e sem grande interação. Este encontro marca a primeira vez que Lula e Milei se cumprimentaram desde a eleição deste último, evidenciando um contexto tenso nas relações entre os dois países.\\n\\nEm resumo, a reunião não apenas destacou a divergência de opiniões entre os presidentes, mas também levantou preocupações sobre a eficácia das negociações no G20, especialmente considerando a importância da colaboração regional.\\n',\n",
       " 'URL: https://python.langchain.com/api_reference/community/storage/langchain_community.storage.mongodb.MongoDBStore.html\\nTipo de conteúdo: web\\nQuem adicionou: xvalentim\\nData de adição: 2024-11-18 20:25:11.077000\\nConteudo resumido: O conteúdo apresentado refere-se à documentação do **MongoDBStore**, uma implementação da biblioteca LangChain que utiliza o MongoDB como sistema de armazenamento subjacente. Abaixo, estão os principais pontos explicados de forma clara e acessível:\\n\\n### O que é o MongoDBStore?\\n- **MongoDBStore** é uma classe que permite armazenar e gerenciar documentos no MongoDB. Ele é parte da biblioteca LangChain, que é usada para criar aplicações de processamento de linguagem natural.\\n\\n### Como funciona?\\n- Para utilizar o MongoDBStore, é necessário fornecer uma **string de conexão** com o MongoDB, o nome do banco de dados e o nome da coleção onde os dados serão armazenados.\\n\\n### Exemplos de uso\\n1. **Instanciação**:\\n   - Você pode criar uma instância do MongoDBStore com a seguinte linha de código:\\n     ```python\\n     mongodb_store = MongoDBStore(\"mongodb://localhost:27017/\", db_name=\"test-db\", collection_name=\"test-collection\")\\n     ```\\n2. **Armazenamento de documentos**:\\n   - Para armazenar documentos, você pode usar o método `mset`, que aceita pares de chave e documento:\\n     ```python\\n     mongodb_store.mset([(\"key1\", doc1), (\"key2\", doc2)])\\n     ```\\n3. **Recuperação de documentos**:\\n   - Para recuperar documentos, use o método `mget`:\\n     ```python\\n     values = mongodb_store.mget([\"key1\", \"key2\"])  # Retorna [doc1, doc2]\\n     ```\\n4. **Iteração sobre as chaves**:\\n   - Você pode iterar sobre as chaves armazenadas utilizando `yield_keys()`:\\n     ```python\\n     for key in mongodb_store.yield_keys():\\n         print(key)\\n     ```\\n5. **Exclusão de documentos**:\\n   - Para remover documentos, você pode usar o método `mdelete`:\\n     ```python\\n     mongodb_store.mdelete([\"key1\", \"key2\"])\\n     ```\\n\\n### Parâmetros principais\\n- **connection_string**: String de conexão com o MongoDB.\\n- **db_name**: Nome do banco de dados a ser utilizado.\\n- **collection_name**: Nome da coleção para armazenar os documentos.\\n- **client_kwargs**: Argumentos opcionais para passar ao cliente MongoDB.\\n\\n### Métodos assíncronos\\n- O MongoDBStore também possui métodos assíncronos, como `amset`, `amget` e `amdelete`, que permitem operações assíncronas para maior eficiência.\\n\\n### Conclusão\\nO MongoDBStore é uma ferramenta poderosa para quem precisa integrar o MongoDB em aplicações de processamento de linguagem natural, oferecendo métodos simples para armazenar, recuperar e gerenciar documentos de forma eficiente.\\n']"
      ]
     },
     "execution_count": 137,
     "metadata": {},
     "output_type": "execute_result"
    }
   ],
   "source": [
    "[format_text(x) for x in get_only_window_old_items(window=1, granularity='days')]"
   ]
  },
  {
   "cell_type": "code",
   "execution_count": 135,
   "metadata": {},
   "outputs": [
    {
     "data": {
      "text/plain": [
       "[{'_id': ObjectId('673b8a8a22ef674d019cee05'),\n",
       "  'url': 'https://www.uol.com.br/',\n",
       "  'content_type': 'web',\n",
       "  'original_content': 'UOL - Seu universo online\\n\\n\\n\\n\\n\\n\\n\\n\\n\\n\\n\\n\\n\\n\\n\\n\\n\\n\\n\\n\\n\\n\\n\\n\\n\\n\\n\\n\\n\\n\\n\\n\\n\\n\\n\\n\\n\\n\\n\\n\\n\\n\\n\\n\\n\\n\\n\\n\\n\\n\\n\\n\\n\\n\\n\\n\\n\\n\\n\\n\\n\\n\\n\\n\\n\\n\\n\\n\\n\\n\\n\\n\\n\\n\\n\\n\\n\\n\\n\\n\\n\\n\\n\\n\\n\\n\\n\\n\\n          Ingresso.com\\n        \\n          Bate-Papo\\n        \\n          UOL HOST\\n        \\n          Passei Direto\\n        \\n          UOL Play\\n        \\n          PagBank\\n        \\n          UOL ADS\\n        \\n          Sac\\n        \\n          Email\\n        \\n          ASSINE UOL\\n        \\n      UOL - Seu universo online\\n    PesquisarSiteProdutosSiteConteúdo ExclusivoSiteUOL MailSiteUOL PlaySiteUFCSiteChampions LeagueSiteNBASiteBate-Papo UOLSiteUOL Leia+SiteUOL AntivírusSiteUOL Assistência TécnicaSiteUOL ResolveSiteUOL WI-FISiteUOL SexoSiteClube UOLSiteUOL adsSiteUOL HostSiteUOL Meu NegócioSiteUOL Afiliados\\n    Assine UOL\\n  \\n    Tenha acesso ilimitado ao conteúdo exclusivo e a produtos UOL\\n  \\n    Compre pelo\\n    WhatsApp\\n    ou ligue para nós\\n  \\n      4003 6118\\n    \\n      capitais\\n    \\n      0800 703 3000\\n    \\n      demais localidades\\n    SiteNotíciasSiteColunasSiteCotidianoSiteEducaçãoSiteEleiçõesSiteGoverno LulaSiteInternacionalSitePrevisão do tempoSiteSaúdeSiteUOL ConfereSiteNewslettersSiteÚltimas notíciasSiteLoteriasSiteMega SenaSiteQuinaSiteLotofácilSiteLotomaniaSiteOutras loteriasSitePodcastsSitePosse de BolaSiteSexoterapiaSiteSplash Vê TVSiteUOL EntrevistaSiteUOL PrimeSiteUOL LíderesSiteMídia e MarketingSitePolíticaSiteColunasSiteUOL ConfereSiteGoverno LulaSiteCarrosSiteTabela FipeSiteLançamentos e MercadoSiteAvaliação de CarrosSiteComparativoSiteLegislação, Multas e TrânsitoSiteManutenção e SegurançaSiteCarros curiososSiteCarro dos famososSiteVídeosSiteWeb StoriesSiteÚltimas notíciasSiteNewslettersSiteEconomiaSiteCotaçõesSiteInvestimentosSiteEmpresas e NegóciosSiteEmpreendedorismoSiteDinheiro e RendaSiteConcursosSiteGuia de ComprasSiteGuia de EconomiaSiteImposto de RendaSiteLíderesSiteMídia e MarketingSiteColunasSiteNewslettersSiteVídeosSiteÚltimas notíciasSiteCotaçõesSiteDólarSiteEuroSiteOutras moedasSiteBolsa de ValoresSiteBitcoin e CriptomoedasSiteImposto de RendaSiteDownload do programaSiteTira-dúvidasSiteÚltimas notíciasSiteGoverno e CongressoSiteBolsa FamíliaSiteINSSSitePIS - Pagamentos e CalendárioSitePreço dos combustíveisSiteInflação no Brasil e MundoSiteBanco CentralSiteSelic e JurosSiteFolhaSitePolíticaSiteEconomiaSiteMundoSiteCotidianoSiteEquilíbrioSiteCulturaSiteF5SiteEsporteSitePodcastsSiteColunas e blogsSiteEsporteSiteFutebolSiteJogos de HojeSiteBrasileirãoSiteSérie BSiteCopa do BrasilSiteCopa Sul-AmericanaSiteEliminatórias Sul-AmericanasSiteLibertadoresSiteLiga dos CampeõesSiteCampeonato InglêsSiteMais campeonatosSiteMercado da BolaSiteMais EsporteSiteFórmula 1SiteMMASiteFutsalSiteNBB Caixa 2024/25SiteLBF - Basquete femininoSiteTênisSiteReportagens especiaisSiteColunasSiteVídeosSiteÚltimas notícias\\n    Times\\n  SiteAssine e veja ao vivoSiteUFCSiteChampions LeagueSiteNBASiteSplashSiteCarnavalSiteA FazendaSiteBBBSiteCelebsSiteFilmesSiteSériesSiteMúsicaSiteShows e FestivaisSiteAba AnônimaSiteTelevisãoSiteNovelasSiteReality ',\n",
       "  'summarization': 'O conteúdo apresentado é uma visão geral do portal UOL, que oferece uma ampla gama de serviços e informações. Aqui estão os principais pontos destacados:\\n\\n1. **Serviços e Produtos**: O UOL disponibiliza diversas ferramentas e serviços, incluindo UOL Play (streaming de vídeos), PagBank (serviços bancários), UOL Host (hospedagem de sites), entre outros. Isso permite que os usuários acessem conteúdos e serviços variados em um único lugar.\\n\\n2. **Assinaturas**: Há uma opção de assinatura que oferece acesso ilimitado a conteúdos exclusivos e produtos do UOL. Os usuários podem se inscrever facilmente pelo site ou por meio de contato telefônico.\\n\\n3. **Conteúdo Diversificado**: O portal abrange uma vasta gama de temas, como notícias, esportes, cultura, economia, e entretenimento. Isso significa que os visitantes podem encontrar informações sobre política, saúde, educação, e até mesmo apostas em loterias.\\n\\n4. **Interatividade**: O UOL também promove a interatividade por meio de chats, podcasts, e seções de comentários, permitindo que os usuários participem ativamente das discussões.\\n\\n5. **Facilidade de Acesso**: O site é organizado em seções que permitem fácil navegação, tanto para quem busca informações específicas quanto para aqueles que desejam explorar diferentes tópicos.\\n\\nEsses elementos fazem do UOL um portal abrangente, que atende a diversas necessidades de informação e entretenimento dos usuários.',\n",
       "  'who_added': 'xvalentim',\n",
       "  'date_added': datetime.datetime(2024, 11, 18, 15, 40, 22, 164000)},\n",
       " {'_id': ObjectId('673b8a8a22ef674d019cee06'),\n",
       "  'url': 'https://www.poder360.com.br/poder-economia/governo-estuda-acabar-com-pensao-para-militares-expulsos-do-exercito/',\n",
       "  'content_type': 'web',\n",
       "  'original_content': ' \\n\\n\\n\\n\\n\\n\\n\\t\\t\\tGoverno estuda acabar com pensão para militares expulsos\\t\\t\\n\\n\\n\\n\\n\\n\\n\\n\\n\\n\\n\\n\\n\\n\\n\\n\\n\\n\\n\\n\\n\\n\\n\\n\\n\\n\\n\\n\\n\\n\\n\\nGoverno estuda acabar com pensão para militares expulsos\\n\\n\\n\\n\\n\\n\\n\\n\\n\\n\\n\\n\\n\\n\\n\\n\\n\\n\\n\\n\\n\\n\\n\\n\\n\\n\\n\\n\\n\\n\\n\\n\\n\\n\\n\\n\\n\\n\\n\\n\\n\\n\\n\\n\\n\\n\\n\\n\\n\\n\\n\\n\\n\\n\\n\\n\\n\\n\\n\\n\\n\\n\\n \\n\\n\\n\\n\\n\\n\\n\\n\\n\\n\\n\\n\\n\\n\\n\\n\\n\\n\\n\\n\\nIr para o conteúdo 1\\n\\n\\nIr para o menu 2\\n\\n\\nIr para a busca 3\\n\\n\\nIr para o rodapé 4\\n\\n\\n\\n\\n\\n\\n\\n\\n\\n\\n\\n\\nSÓ TEXTO\\n\\n\\n\\n\\n\\nASSINE O PODER MONITOR\\n\\n\\nLogin\\n\\n\\n\\n\\n\\n\\n\\n\\n\\n\\n\\n\\n\\n\\n\\n\\n\\n\\n\\n\\n\\n\\n\\n \\n\\n\\n\\nMenu\\n\\n\\n\\n\\n\\n\\n\\n\\n\\n\\n\\n\\n\\n\\n\\n\\n\\n\\n\\n\\n\\n\\n\\n\\n\\n\\n\\n\\n\\n\\n\\n\\n\\n\\n\\n\\n\\n\\n\\n\\n\\n\\n\\n\\n\\n\\n\\n\\n\\n\\n\\n\\n\\n\\n\\n\\n\\n\\n\\n\\n\\n\\n\\n\\n\\n\\n\\n\\n\\n\\n\\n\\n\\n\\n\\n\\n\\n\\t\\t\\tcopiar link\\n\\t\\t\\n\\n\\n \\n\\nA\\n\\nTamanho 1\\nTamanho\\n\\t\\t\\t\\t\\t\\t\\t\\t\\t\\t\\t\\t2\\nTamanho 3\\n\\nA\\n\\n\\n\\n\\n\\n\\nPoder Economia\\n\\n\\n\\n\\n\\n\\n\\n\\n\\n\\n\\n\\nLogin\\n\\nFechar\\n\\n\\n\\n\\n\\n\\n\\n\\n\\nNotícias\\n\\nPoder Governo\\nAnúncios do Governo\\nPoder Congresso\\nPoder Economia\\nPoder Justiça\\nPoder Brasil\\nPoder Infra\\nPoder Hoje\\nPoder Flash\\nPoder Monitor\\nPoder Gente\\nPoder Sports MKT\\nBrasil à Frente\\nPoder Empreendedor\\nPoderData\\nPoder Agro\\nPoder Infográficos\\nPoder Eleições\\nPoder Internacional\\nPoder Educação\\nPoder Saúde\\nPoder Energia\\nPoder Tech\\nPoder Sustentável\\nPoder Mídia\\nPoder Vídeos\\nNieman\\nPoder Pesquisas\\nAgregador de Pesquisas\\nPolíticos do Brasil\\nEleições 2024 – resultados 2º turno\\nEleições 2024 – resultados 1º turno\\nEleições 2024 notícias\\nEleições 2022 – resultados\\nEleições 2022 notícias\\nEventos\\nPoder Visitas\\nPoder360 Institucional\\n\\n\\n\\n\\n\\n\\n\\nOpinião e Análise\\n\\nOpinião\\nAnálise\\nEditorial\\nOpinião: Futuro Indicativo\\n\\n\\n\\nVídeos e Podcasts\\n\\nPoder360 no YouTube\\nComerciais eleitorais 2022\\nAgenda da Semana\\nFatos da Semana\\nVolta ao Mundo\\nPodSonhar\\nBoleiros de Humanas\\nPoder Explica\\nPoder Reage\\nLives do Prerrogativas\\n\\n\\n\\nParcerias e Projetos Especiais\\n\\nPoder em Foco\\nFronteiras do Pensamento\\nO custo do contrabando\\nA indústria e o futuro do Brasil\\n\\n\\n\\n\\n\\n\\n\\nO Poder360\\n\\nQuem somos\\nEquipe\\nArticulistas\\nComo anunciar\\nDrive\\nPoderIdeias\\nPoderData\\nPoder Conteúdo Patrocinado\\nTrabalhe no Poder360\\nContato\\nPrincípios Editoriais\\nCódigo de Conduta\\nPolítica de Privacidade\\nPolítica de Compliance\\nTermos de uso\\nReprodução de material\\nArquivo Blog Fernando Rodrigues\\n\\n\\n\\n\\n\\ncompartilhe o Poder360\\n\\n\\n\\n\\n\\n\\n \\n\\n\\n\\n\\n\\n\\nASSINE O PODER MONITOR\\n\\n\\n\\n\\n\\n\\n\\n\\n\\n\\n\\n\\n\\npublicidade\\n\\n\\n\\n\\n\\n \\n\\npublicidade\\n\\n\\n\\n\\n\\n \\n\\n\\n\\n\\n\\n\\nGoverno estuda acabar com pensão para militares expulsos do Exército\\nA Defesa e a equipe econômica estudam inserir a medida no pacote de redução de gastos do governo\\n\\n\\n\\n\\n\\n\\n\\n\\n\\n\\n\\n\\n\\n\\n\\n\\n\\n\\n\\n\\n\\n\\n\\n\\n\\n\\n\\n\\n\\n\\n\\n\\n\\n\\n\\n\\n\\n\\n\\n\\n\\n\\n\\n\\n\\n\\n\\n\\n\\n\\n\\n\\n\\n\\n\\n\\n\\n\\n\\n\\n\\n\\n\\n\\n\\n\\n\\n\\n\\n\\n\\n\\n\\n\\n\\n\\n\\n\\n\\n\\n\\n\\n\\t\\t\\t\\tcopiar link\\n\\t\\t\\t\\n\\n\\n\\n\\n\\n\\n\\n\\n \\nGoverno tem calendário apertado para anunciar corte de gastos; na imagem, Militares durante cerimônia em comemoração ao Dia do Soldado em Brasília\\n\\n\\n\\n\\n Sérgio Lima/Poder360 - 22.ago.2024\\n\\n\\n\\n\\n\\n\\n\\nGabriel Benevides \\n \\n\\t\\t18.nov.2024 (segunda-feira) - 14h55\\n\\n\\n\\nO governo estuda acabar com a pensão dos familiares de militares expulsos do Exército para diminuir os gastos públicos. Essa foi uma das medidas colocadas na mesa durante a reunião entre os ministérios da Fazenda e da Defesa sobre o tema.\\nA ideia inicial era deixar o órgão responsável pelas Forças Armadas intocado, mas o presidente Luiz Inácio Lula da Silva (PT) pediu que a',\n",
       "  'summarization': 'O governo brasileiro está considerando a possibilidade de eliminar a pensão destinada aos familiares de militares que foram expulsos do Exército. Essa proposta surge como parte de um esforço maior para reduzir os gastos públicos. A ideia foi discutida em uma reunião entre os ministérios da Fazenda e da Defesa.\\n\\nEmbora a intenção inicial fosse manter as Forças Armadas sem mudanças, o presidente Luiz Inácio Lula da Silva solicitou que essa questão fosse revisitada. A medida está inserida em um contexto de necessidade de cortes orçamentários, e o governo enfrenta um calendário apertado para implementar essas mudanças.\\n\\nEm resumo, essa proposta de acabar com a pensão para militares expulsos é uma das estratégias que o governo está avaliando para equilibrar as contas públicas e reduzir despesas.',\n",
       "  'who_added': 'xvalentim',\n",
       "  'date_added': datetime.datetime(2024, 11, 18, 15, 40, 25, 177000)},\n",
       " {'_id': ObjectId('673b8a8a22ef674d019cee07'),\n",
       "  'url': 'https://www.poder360.com.br/poder-justica/brasil-seria-pior-sem-o-inquerito-das-fake-news-diz-gilmar/',\n",
       "  'content_type': 'web',\n",
       "  'original_content': ' \\n\\n\\n\\n\\n\\n\\n\\t\\t\\tBrasil seria pior sem o inquérito das fake news, diz Gilmar\\t\\t\\n\\n\\n\\n\\n\\n\\n\\n\\n\\n\\n\\n\\n\\n\\n\\n\\n\\n\\n\\n\\n\\n\\n\\n\\n\\n\\n\\n\\n\\n\\n\\nBrasil seria pior sem o inquérito das fake news, diz Gilmar\\n\\n\\n\\n\\n\\n\\n\\n\\n\\n\\n\\n\\n\\n\\n\\n\\n\\n\\n\\n\\n\\n\\n\\n\\n\\n\\n\\n\\n\\n\\n\\n\\n\\n\\n\\n\\n\\n\\n\\n\\n\\n\\n\\n\\n\\n\\n\\n\\n\\n\\n\\n\\n\\n\\n\\n\\n\\n\\n\\n\\n\\n\\n\\n \\n\\n\\n\\n\\n\\n\\n\\n\\n\\n\\n\\n\\n\\n\\n\\n\\n\\n\\n\\n\\nIr para o conteúdo 1\\n\\n\\nIr para o menu 2\\n\\n\\nIr para a busca 3\\n\\n\\nIr para o rodapé 4\\n\\n\\n\\n\\n\\n\\n\\n\\n\\n\\n\\n\\nSÓ TEXTO\\n\\n\\n\\n\\n\\nASSINE O PODER MONITOR\\n\\n\\nLogin\\n\\n\\n\\n\\n\\n\\n\\n\\n\\n\\n\\n\\n\\n\\n\\n\\n\\n\\n\\n\\n\\n\\n\\n \\n\\n\\n\\nMenu\\n\\n\\n\\n\\n\\n\\n\\n\\n\\n\\n\\n\\n\\n\\n\\n\\n\\n\\n\\n\\n\\n\\n\\n\\n\\n\\n\\n\\n\\n\\n\\n\\n\\n\\n\\n\\n\\n\\n\\n\\n\\n\\n\\n\\n\\n\\n\\n\\n\\n\\n\\n\\n\\n\\n\\n\\n\\n\\n\\n\\n\\n\\n\\n\\n\\n\\n\\n\\n\\n\\n\\n\\n\\n\\n\\n\\n\\n\\t\\t\\tcopiar link\\n\\t\\t\\n\\n\\n \\n\\nA\\n\\nTamanho 1\\nTamanho\\n\\t\\t\\t\\t\\t\\t\\t\\t\\t\\t\\t\\t2\\nTamanho 3\\n\\nA\\n\\n\\n\\n\\n\\n\\nPoder Justiça\\n\\n\\n\\n\\n\\n\\n\\n\\n\\n\\n\\n\\nLogin\\n\\nFechar\\n\\n\\n\\n\\n\\n\\n\\n\\n\\nNotícias\\n\\nPoder Governo\\nAnúncios do Governo\\nPoder Congresso\\nPoder Economia\\nPoder Justiça\\nPoder Brasil\\nPoder Infra\\nPoder Hoje\\nPoder Flash\\nPoder Monitor\\nPoder Gente\\nPoder Sports MKT\\nBrasil à Frente\\nPoder Empreendedor\\nPoderData\\nPoder Agro\\nPoder Infográficos\\nPoder Eleições\\nPoder Internacional\\nPoder Educação\\nPoder Saúde\\nPoder Energia\\nPoder Tech\\nPoder Sustentável\\nPoder Mídia\\nPoder Vídeos\\nNieman\\nPoder Pesquisas\\nAgregador de Pesquisas\\nPolíticos do Brasil\\nEleições 2024 – resultados 2º turno\\nEleições 2024 – resultados 1º turno\\nEleições 2024 notícias\\nEleições 2022 – resultados\\nEleições 2022 notícias\\nEventos\\nPoder Visitas\\nPoder360 Institucional\\n\\n\\n\\n\\n\\n\\n\\nOpinião e Análise\\n\\nOpinião\\nAnálise\\nEditorial\\nOpinião: Futuro Indicativo\\n\\n\\n\\nVídeos e Podcasts\\n\\nPoder360 no YouTube\\nComerciais eleitorais 2022\\nAgenda da Semana\\nFatos da Semana\\nVolta ao Mundo\\nPodSonhar\\nBoleiros de Humanas\\nPoder Explica\\nPoder Reage\\nLives do Prerrogativas\\n\\n\\n\\nParcerias e Projetos Especiais\\n\\nPoder em Foco\\nFronteiras do Pensamento\\nO custo do contrabando\\nA indústria e o futuro do Brasil\\n\\n\\n\\n\\n\\n\\n\\nO Poder360\\n\\nQuem somos\\nEquipe\\nArticulistas\\nComo anunciar\\nDrive\\nPoderIdeias\\nPoderData\\nPoder Conteúdo Patrocinado\\nTrabalhe no Poder360\\nContato\\nPrincípios Editoriais\\nCódigo de Conduta\\nPolítica de Privacidade\\nPolítica de Compliance\\nTermos de uso\\nReprodução de material\\nArquivo Blog Fernando Rodrigues\\n\\n\\n\\n\\n\\ncompartilhe o Poder360\\n\\n\\n\\n\\n\\n\\n \\n\\n\\n\\n\\n\\n\\nASSINE O PODER MONITOR\\n\\n\\n\\n\\n\\n\\n\\n\\n\\n\\n\\n\\n\\npublicidade\\n\\n\\n\\n\\n\\n \\n\\npublicidade\\n\\n\\n\\n\\n\\n \\n\\n\\n\\n\\n\\n\\nBrasil seria pior sem o inquérito das fake news, diz Gilmar\\nDecano do STF elogia Alexandre de Moraes em evento no Mato Grosso e afirma que o Brasil vive “tempos estranhos e desafiadores”\\n\\n\\n\\n\\n\\n\\n\\n\\n\\n\\n\\n\\n\\n\\n\\n\\n\\n\\n\\n\\n\\n\\n\\n\\n\\n\\n\\n\\n\\n\\n\\n\\n\\n\\n\\n\\n\\n\\n\\n\\n\\n\\n\\n\\n\\n\\n\\n\\n\\n\\n\\n\\n\\n\\n\\n\\n\\n\\n\\n\\n\\n\\n\\n\\n\\n\\n\\n\\n\\n\\n\\n\\n\\n\\n\\n\\n\\n\\n\\n\\n\\n\\n\\t\\t\\t\\tcopiar link\\n\\t\\t\\t\\n\\n\\n\\n\\n\\n\\n\\n\\n \\nO ministro do STF, Gilmar Mendes, durante evento de comemoração dos 35 anos da Constituição do Mato Grosso \\n\\n\\n\\n\\n Reprodução/YouTube - 18.nov.2204\\n\\n\\n\\n\\n\\n\\n\\nPODER360 \\n \\n\\t\\t18.nov.2024 (segunda-feira) - 13h42\\n\\n\\n\\nO ministro decano do STF (Supremo Tribunal Federal), Gilmar Mendes, afirmou nesta 2ª feira (18.nov.2024) que o Brasil seria “pior” sem o inquérito das fake news, que investiga a divulgação de notícias falsas e é relatado pelo ministro Alexandre de Moraes no Tribunal.\\nA fala se deu durante um evento no Mato Grosso para comemorar os 35 anos da Constituição do Estado. Os ministros Moraes e Flávio Di',\n",
       "  'summarization': 'O ministro Gilmar Mendes, do Supremo Tribunal Federal (STF), destacou a importância do inquérito das fake news, afirmando que o Brasil seria \"pior\" sem ele. Essa declaração foi feita durante um evento em Mato Grosso que celebrou os 35 anos da Constituição do Estado. Mendes elogiou o trabalho do ministro Alexandre de Moraes, que é o relator do inquérito. \\n\\nO inquérito tem como objetivo investigar a disseminação de notícias falsas, um tema considerado crucial em tempos em que a desinformação pode impactar a democracia e a sociedade. Gilmar Mendes mencionou que o país está enfrentando \"tempos estranhos e desafiadores\", ressaltando a necessidade de mecanismos que combatam a propagação de informações enganosas.\\n\\nEssencialmente, a mensagem central é que o inquérito é visto como uma ferramenta importante para proteger a integridade das informações no Brasil, especialmente em um contexto onde as fake news podem influenciar decisões e opiniões públicas.',\n",
       "  'who_added': 'xvalentim',\n",
       "  'date_added': datetime.datetime(2024, 11, 18, 15, 40, 28, 426000)},\n",
       " {'_id': ObjectId('673ba7f0a39d955e8a37b52e'),\n",
       "  'url': 'https://www.poder360.com.br/poder-congresso/cpi-das-bets-quer-convocar-haddad-jojo-todynho-e-wesley-safadao/',\n",
       "  'content_type': 'web',\n",
       "  'original_content': ' \\n\\n\\n\\n\\n\\n\\n\\t\\t\\tCPI das Bets quer convocar Haddad, Jojo Todynho e Safadão\\t\\t\\n\\n\\n\\n\\n\\n\\n\\n\\n\\n\\n\\n\\n\\n\\n\\n\\n\\n\\n\\n\\n\\n\\n\\n\\n\\n\\n\\n\\n\\n\\n\\nCPI das Bets quer convocar Haddad, Jojo Todynho e Safadão\\n\\n\\n\\n\\n\\n\\n\\n\\n\\n\\n\\n\\n\\n\\n\\n\\n\\n\\n\\n\\n\\n\\n\\n\\n\\n\\n\\n\\n\\n\\n\\n\\n\\n\\n\\n\\n\\n\\n\\n\\n\\n\\n\\n\\n\\n\\n\\n\\n\\n\\n\\n\\n\\n\\n\\n\\n\\n\\n\\n\\n\\n\\n \\n\\n\\n\\n\\n\\n\\n\\n\\n\\n\\n\\n\\n\\n\\n\\n\\n\\n\\n\\n\\nIr para o conteúdo 1\\n\\n\\nIr para o menu 2\\n\\n\\nIr para a busca 3\\n\\n\\nIr para o rodapé 4\\n\\n\\n\\n\\n\\n\\n\\n\\n\\n\\n\\n\\nSÓ TEXTO\\n\\n\\n\\n\\n\\nASSINE O PODER MONITOR\\n\\n\\nLogin\\n\\n\\n\\n\\n\\n\\n\\n\\n\\n\\n\\n\\n\\n\\n\\n\\n\\n\\n\\n\\n\\n\\n\\n \\n\\n\\n\\nMenu\\n\\n\\n\\n\\n\\n\\n\\n\\n\\n\\n\\n\\n\\n\\n\\n\\n\\n\\n\\n\\n\\n\\n\\n\\n\\n\\n\\n\\n\\n\\n\\n\\n\\n\\n\\n\\n\\n\\n\\n\\n\\n\\n\\n\\n\\n\\n\\n\\n\\n\\n\\n\\n\\n\\n\\n\\n\\n\\n\\n\\n\\n\\n\\n\\n\\n\\n\\n\\n\\n\\n\\n\\n\\n\\n\\n\\n\\n\\t\\t\\tcopiar link\\n\\t\\t\\n\\n\\n \\n\\nA\\n\\nTamanho 1\\nTamanho\\n\\t\\t\\t\\t\\t\\t\\t\\t\\t\\t\\t\\t2\\nTamanho 3\\n\\nA\\n\\n\\n\\n\\n\\n\\nPoder Congresso\\n\\n\\n\\n\\n\\n\\n\\n\\n\\n\\n\\n\\nLogin\\n\\nFechar\\n\\n\\n\\n\\n\\n\\n\\n\\n\\nNotícias\\n\\nPoder Governo\\nAnúncios do Governo\\nPoder Congresso\\nPoder Economia\\nPoder Justiça\\nPoder Brasil\\nPoder Infra\\nPoder Hoje\\nPoder Flash\\nPoder Monitor\\nPoder Gente\\nPoder Sports MKT\\nBrasil à Frente\\nPoder Empreendedor\\nPoderData\\nPoder Agro\\nPoder Infográficos\\nPoder Eleições\\nPoder Internacional\\nPoder Educação\\nPoder Saúde\\nPoder Energia\\nPoder Tech\\nPoder Sustentável\\nPoder Mídia\\nPoder Vídeos\\nNieman\\nPoder Pesquisas\\nAgregador de Pesquisas\\nPolíticos do Brasil\\nEleições 2024 – resultados 2º turno\\nEleições 2024 – resultados 1º turno\\nEleições 2024 notícias\\nEleições 2022 – resultados\\nEleições 2022 notícias\\nEventos\\nPoder Visitas\\nPoder360 Institucional\\n\\n\\n\\n\\n\\n\\n\\nOpinião e Análise\\n\\nOpinião\\nAnálise\\nEditorial\\nOpinião: Futuro Indicativo\\n\\n\\n\\nVídeos e Podcasts\\n\\nPoder360 no YouTube\\nComerciais eleitorais 2022\\nAgenda da Semana\\nFatos da Semana\\nVolta ao Mundo\\nPodSonhar\\nBoleiros de Humanas\\nPoder Explica\\nPoder Reage\\nLives do Prerrogativas\\n\\n\\n\\nParcerias e Projetos Especiais\\n\\nPoder em Foco\\nFronteiras do Pensamento\\nO custo do contrabando\\nA indústria e o futuro do Brasil\\n\\n\\n\\n\\n\\n\\n\\nO Poder360\\n\\nQuem somos\\nEquipe\\nArticulistas\\nComo anunciar\\nDrive\\nPoderIdeias\\nPoderData\\nPoder Conteúdo Patrocinado\\nTrabalhe no Poder360\\nContato\\nPrincípios Editoriais\\nCódigo de Conduta\\nPolítica de Privacidade\\nPolítica de Compliance\\nTermos de uso\\nReprodução de material\\nArquivo Blog Fernando Rodrigues\\n\\n\\n\\n\\n\\ncompartilhe o Poder360\\n\\n\\n\\n\\n\\n\\n \\n\\n\\n\\n\\n\\n\\nASSINE O PODER MONITOR\\n\\n\\n\\n\\n\\n\\n\\n\\n\\n\\n\\n\\n\\npublicidade\\n\\n\\n\\n\\n\\n \\n\\npublicidade\\n\\n\\n\\n\\n\\n \\n\\n\\n\\n\\n\\n\\nCPI das Bets quer convocar Haddad, Jojo Todynho e Wesley Safadão\\nComissão vai investigar crimes financeiros relacionados às apostas esportivas on-line, popularmente conhecidas como bets\\n\\n\\n\\n\\n\\n\\n\\n\\n\\n\\n\\n\\n\\n\\n\\n\\n\\n\\n\\n\\n\\n\\n\\n\\n\\n\\n\\n\\n\\n\\n\\n\\n\\n\\n\\n\\n\\n\\n\\n\\n\\n\\n\\n\\n\\n\\n\\n\\n\\n\\n\\n\\n\\n\\n\\n\\n\\n\\n\\n\\n\\n\\n\\n\\n\\n\\n\\n\\n\\n\\n\\n\\n\\n\\n\\n\\n\\n\\n\\n\\n\\n\\n\\t\\t\\t\\tcopiar link\\n\\t\\t\\t\\n\\n\\n\\n\\n\\n\\n\\n\\n \\nSoraya Thronicke (foto) é a relatora da CPI e é responsável pelo pedido de convocação de nomes como Ednaldo Rodrigues (CBF), Jojo Todynho, Wesley Safadão e Tirulipa\\n\\n\\n\\n\\n Mateus Mello/Poder360 –\\xa07.ago.2024\\n\\n\\n\\n\\n\\n\\n\\nFelipe Salgado \\n \\n\\t\\t18.nov.2024 (segunda-feira) - 14h16\\n\\n\\n\\nA CPI das Bets iniciará os trabalhos na 3ª feira (19.nov.2024) com a missão de analisar os 168 pedidos de seus integrantes, a maioria dos quais refere-se a convites e convocações de depoentes para a investigação de possíveis crimes financeiros relacionados às apostas esportivas on-line.\\nNa lista, destacam-se nomes como:publicidade\\n\\n\\n\\n\\n\\n',\n",
       "  'summarization': 'A CPI das Bets, que se dedicará a investigar crimes financeiros ligados a apostas esportivas online, está programada para iniciar seus trabalhos no dia 19 de novembro de 2024. A Comissão Parlamentar de Inquérito tem uma lista de 168 pedidos de convocação, entre os quais se destacam figuras conhecidas como o ministro Fernando Haddad, a cantora Jojo Todynho e o cantor Wesley Safadão, além do presidente da CBF, Ednaldo Rodrigues, e do humorista Tirulipa.\\n\\nA relatora da CPI, Soraya Thronicke, é responsável por esses pedidos de convocação, que visam coletar depoimentos para esclarecer a influência e as possíveis irregularidades no setor de apostas online. A CPI busca entender melhor como as apostas esportivas estão sendo conduzidas e se há alguma relação com crimes financeiros, como lavagem de dinheiro ou fraudes. \\n\\nEsse movimento reflete uma preocupação crescente com a regulamentação e supervisão das apostas no Brasil, especialmente à medida que esse mercado se expande.',\n",
       "  'who_added': 'xvalentim',\n",
       "  'date_added': datetime.datetime(2024, 11, 18, 17, 47, 44, 718000)},\n",
       " {'_id': ObjectId('673ba7fea39d955e8a37b52f'),\n",
       "  'url': 'https://www.poder360.com.br/poder-sportsmkt/beyonce-fara-o-show-do-intervalo-do-jogo-de-natal-da-nfl/',\n",
       "  'content_type': 'web',\n",
       "  'original_content': ' \\n\\n\\n\\n\\n\\n\\n\\t\\t\\tBeyoncé fará o show do intervalo do jogo de Natal da NFL\\t\\t\\n\\n\\n\\n\\n\\n\\n\\n\\n\\n\\n\\n\\n\\n\\n\\n\\n\\n\\n\\n\\n\\n\\n\\n\\n\\n\\n\\n\\n\\n\\n\\nBeyoncé fará o show do intervalo do jogo de Natal da NFL\\n\\n\\n\\n\\n\\n\\n\\n\\n\\n\\n\\n\\n\\n\\n\\n\\n\\n\\n\\n\\n\\n\\n\\n\\n\\n\\n\\n\\n\\n\\n\\n\\n\\n\\n\\n\\n\\n\\n\\n\\n\\n\\n\\n\\n\\n\\n\\n\\n\\n\\n\\n\\n\\n\\n\\n\\n\\n\\n\\n\\n\\n\\n\\n \\n\\n\\n\\n\\n\\n\\n\\n\\n\\n\\n\\n\\n\\n\\n\\n\\n\\n\\n\\n\\nIr para o conteúdo 1\\n\\n\\nIr para o menu 2\\n\\n\\nIr para a busca 3\\n\\n\\nIr para o rodapé 4\\n\\n\\n\\n\\n\\n\\n\\n\\n\\n\\n\\n\\nSÓ TEXTO\\n\\n\\n\\n\\n\\nASSINE O PODER MONITOR\\n\\n\\nLogin\\n\\n\\n\\n\\n\\n\\n\\n\\n\\n\\n\\n\\n\\n\\n\\n\\n\\n\\n\\n\\n\\n\\n\\n \\n\\n\\n\\nMenu\\n\\n\\n\\n\\n\\n\\n\\n\\n\\n\\n\\n\\n\\n\\n\\n\\n\\n\\n\\n\\n\\n\\n\\n\\n\\n\\n\\n\\n\\n\\n\\n\\n\\n\\n\\n\\n\\n\\n\\n\\n\\n\\n\\n\\n\\n\\n\\n\\n\\n\\n\\n\\n\\n\\n\\n\\n\\n\\n\\n\\n\\n\\n\\n\\n\\n\\n\\n\\n\\n\\n\\n\\n\\n\\n\\n\\n\\n\\t\\t\\tcopiar link\\n\\t\\t\\n\\n\\n \\n\\nA\\n\\nTamanho 1\\nTamanho\\n\\t\\t\\t\\t\\t\\t\\t\\t\\t\\t\\t\\t2\\nTamanho 3\\n\\nA\\n\\n\\n\\n\\n\\n\\nPoder Sports MKT\\n\\neditado por João Rodrigues\\n\\n\\n\\n\\n\\n\\n\\n\\n\\n\\n\\n\\n\\nLogin\\n\\nFechar\\n\\n\\n\\n\\n\\n\\n\\n\\n\\nNotícias\\n\\nPoder Governo\\nAnúncios do Governo\\nPoder Congresso\\nPoder Economia\\nPoder Justiça\\nPoder Brasil\\nPoder Infra\\nPoder Hoje\\nPoder Flash\\nPoder Monitor\\nPoder Gente\\nPoder Sports MKT\\nBrasil à Frente\\nPoder Empreendedor\\nPoderData\\nPoder Agro\\nPoder Infográficos\\nPoder Eleições\\nPoder Internacional\\nPoder Educação\\nPoder Saúde\\nPoder Energia\\nPoder Tech\\nPoder Sustentável\\nPoder Mídia\\nPoder Vídeos\\nNieman\\nPoder Pesquisas\\nAgregador de Pesquisas\\nPolíticos do Brasil\\nEleições 2024 – resultados 2º turno\\nEleições 2024 – resultados 1º turno\\nEleições 2024 notícias\\nEleições 2022 – resultados\\nEleições 2022 notícias\\nEventos\\nPoder Visitas\\nPoder360 Institucional\\n\\n\\n\\n\\n\\n\\n\\nOpinião e Análise\\n\\nOpinião\\nAnálise\\nEditorial\\nOpinião: Futuro Indicativo\\n\\n\\n\\nVídeos e Podcasts\\n\\nPoder360 no YouTube\\nComerciais eleitorais 2022\\nAgenda da Semana\\nFatos da Semana\\nVolta ao Mundo\\nPodSonhar\\nBoleiros de Humanas\\nPoder Explica\\nPoder Reage\\nLives do Prerrogativas\\n\\n\\n\\nParcerias e Projetos Especiais\\n\\nPoder em Foco\\nFronteiras do Pensamento\\nO custo do contrabando\\nA indústria e o futuro do Brasil\\n\\n\\n\\n\\n\\n\\n\\nO Poder360\\n\\nQuem somos\\nEquipe\\nArticulistas\\nComo anunciar\\nDrive\\nPoderIdeias\\nPoderData\\nPoder Conteúdo Patrocinado\\nTrabalhe no Poder360\\nContato\\nPrincípios Editoriais\\nCódigo de Conduta\\nPolítica de Privacidade\\nPolítica de Compliance\\nTermos de uso\\nReprodução de material\\nArquivo Blog Fernando Rodrigues\\n\\n\\n\\n\\n\\ncompartilhe o Poder360\\n\\n\\n\\n\\n\\n\\n \\n\\n\\n\\n\\n\\n\\nASSINE O PODER MONITOR\\n\\n\\n\\n\\n\\n\\n\\n\\n\\n\\n\\n\\n\\npublicidade\\n\\n\\n\\n\\n\\n \\n\\npublicidade\\n\\n\\n\\n\\n\\n \\n\\n\\n\\n\\n\\n\\nBeyoncé fará o show do intervalo do jogo de Natal da NFL\\nPerformance da cantora norte-americana será transmitida ao vivo no 1ª jogo especial da liga na plataforma\\n\\n\\n\\n\\n\\n\\n\\n\\n\\n\\n\\n\\n\\n\\n\\n\\n\\n\\n\\n\\n\\n\\n\\n\\n\\n\\n\\n\\n\\n\\n\\n\\n\\n\\n\\n\\n\\n\\n\\n\\n\\n\\n\\n\\n\\n\\n\\n\\n\\n\\n\\n\\n\\n\\n\\n\\n\\n\\n\\n\\n\\n\\n\\n\\n\\n\\n\\n\\n\\n\\n\\n\\n\\n\\n\\n\\n\\n\\n\\n\\n\\n\\n\\t\\t\\t\\tcopiar link\\n\\t\\t\\t\\n\\n\\n\\n\\n\\n\\n\\n\\n \\nEste será o 3ª show de intervalo da NFL em que Beyoncé se apresenta, seguindo suas atuações nos Super Bowls de 2013 e 2016; na imagem, a cantora em cima de um carro vermelho segurando a bola da NFL \\n\\n\\n\\n\\n Reprodução/ Netflix Brasil - 18.nov.2024\\n\\n\\n\\n\\n\\n\\n\\nPODER360 \\n \\n\\t\\t18.nov.2024 (segunda-feira) - 12h24\\n\\n\\n\\nA cantora Beyoncé realizará uma performance no intervalo do jogo de Natal da NFL entre Houston Texans e Baltimore Ravens. O evento foi divulgado pela Netflix no domingo (17.nov.2024). A transmissão do jogo começará às 18h30, horário de Brasília. O show incluirá possivelmente convidados especiais d',\n",
       "  'summarization': 'Beyoncé será a atração do show do intervalo no jogo de Natal da NFL, que ocorrerá entre os times Houston Texans e Baltimore Ravens. O anúncio foi feito pela Netflix e o jogo será transmitido ao vivo, começando às 18h30, horário de Brasília. Este será o terceiro show de intervalo em que a cantora se apresenta, tendo participado anteriormente dos Super Bowls de 2013 e 2016. Espera-se que a performance inclua convidados especiais, aumentando ainda mais a expectativa em torno do evento.',\n",
       "  'who_added': 'xvalentim',\n",
       "  'date_added': datetime.datetime(2024, 11, 18, 17, 47, 58, 522000)},\n",
       " {'_id': ObjectId('673ba842a39d955e8a37b530'),\n",
       "  'url': 'https://www.poder360.com.br/poder-internacional/depois-de-se-opor-a-declaracao-milei-e-recebido-por-lula-no-g20/',\n",
       "  'content_type': 'web',\n",
       "  'original_content': ' \\n\\n\\n\\n\\n\\n\\n\\t\\t\\tDepois de se opor à declaração, Milei é recebido por Lula no G20\\t\\t\\n\\n\\n\\n\\n\\n\\n\\n\\n\\n\\n\\n\\n\\n\\n\\n\\n\\n\\n\\n\\n\\n\\n\\n\\n\\n\\n\\n\\n\\n\\n\\nDepois de se opor à declaração, Milei é recebido por Lula no G20\\n\\n\\n\\n\\n\\n\\n\\n\\n\\n\\n\\n\\n\\n\\n\\n\\n\\n\\n\\n\\n\\n\\n\\n\\n\\n\\n\\n\\n\\n\\n\\n\\n\\n\\n\\n\\n\\n\\n\\n\\n\\n\\n\\n\\n\\n\\n\\n\\n\\n\\n\\n\\n\\n\\n\\n\\n\\n\\n\\n\\n\\n\\n \\n\\n\\n\\n\\n\\n\\n\\n\\n\\n\\n\\n\\n\\n\\n\\n\\n\\n\\n\\n\\nIr para o conteúdo 1\\n\\n\\nIr para o menu 2\\n\\n\\nIr para a busca 3\\n\\n\\nIr para o rodapé 4\\n\\n\\n\\n\\n\\n\\n\\n\\n\\n\\n\\n\\nSÓ TEXTO\\n\\n\\n\\n\\n\\nASSINE O PODER MONITOR\\n\\n\\nLogin\\n\\n\\n\\n\\n\\n\\n\\n\\n\\n\\n\\n\\n\\n\\n\\n\\n\\n\\n\\n\\n\\n\\n\\n \\n\\n\\n\\nMenu\\n\\n\\n\\n\\n\\n\\n\\n\\n\\n\\n\\n\\n\\n\\n\\n\\n\\n\\n\\n\\n\\n\\n\\n\\n\\n\\n\\n\\n\\n\\n\\n\\n\\n\\n\\n\\n\\n\\n\\n\\n\\n\\n\\n\\n\\n\\n\\n\\n\\n\\n\\n\\n\\n\\n\\n\\n\\n\\n\\n\\n\\n\\n\\n\\n\\n\\n\\n\\n\\n\\n\\n\\n\\n\\n\\n\\n\\n\\t\\t\\tcopiar link\\n\\t\\t\\n\\n\\n \\n\\nA\\n\\nTamanho 1\\nTamanho\\n\\t\\t\\t\\t\\t\\t\\t\\t\\t\\t\\t\\t2\\nTamanho 3\\n\\nA\\n\\n\\n\\n\\n\\n\\nPoder Internacional\\n\\n\\n\\n\\n\\n\\n\\n\\n\\n\\n\\n\\nLogin\\n\\nFechar\\n\\n\\n\\n\\n\\n\\n\\n\\n\\nNotícias\\n\\nPoder Governo\\nAnúncios do Governo\\nPoder Congresso\\nPoder Economia\\nPoder Justiça\\nPoder Brasil\\nPoder Infra\\nPoder Hoje\\nPoder Flash\\nPoder Monitor\\nPoder Gente\\nPoder Sports MKT\\nBrasil à Frente\\nPoder Empreendedor\\nPoderData\\nPoder Agro\\nPoder Infográficos\\nPoder Eleições\\nPoder Internacional\\nPoder Educação\\nPoder Saúde\\nPoder Energia\\nPoder Tech\\nPoder Sustentável\\nPoder Mídia\\nPoder Vídeos\\nNieman\\nPoder Pesquisas\\nAgregador de Pesquisas\\nPolíticos do Brasil\\nEleições 2024 – resultados 2º turno\\nEleições 2024 – resultados 1º turno\\nEleições 2024 notícias\\nEleições 2022 – resultados\\nEleições 2022 notícias\\nEventos\\nPoder Visitas\\nPoder360 Institucional\\n\\n\\n\\n\\n\\n\\n\\nOpinião e Análise\\n\\nOpinião\\nAnálise\\nEditorial\\nOpinião: Futuro Indicativo\\n\\n\\n\\nVídeos e Podcasts\\n\\nPoder360 no YouTube\\nComerciais eleitorais 2022\\nAgenda da Semana\\nFatos da Semana\\nVolta ao Mundo\\nPodSonhar\\nBoleiros de Humanas\\nPoder Explica\\nPoder Reage\\nLives do Prerrogativas\\n\\n\\n\\nParcerias e Projetos Especiais\\n\\nPoder em Foco\\nFronteiras do Pensamento\\nO custo do contrabando\\nA indústria e o futuro do Brasil\\n\\n\\n\\n\\n\\n\\n\\nO Poder360\\n\\nQuem somos\\nEquipe\\nArticulistas\\nComo anunciar\\nDrive\\nPoderIdeias\\nPoderData\\nPoder Conteúdo Patrocinado\\nTrabalhe no Poder360\\nContato\\nPrincípios Editoriais\\nCódigo de Conduta\\nPolítica de Privacidade\\nPolítica de Compliance\\nTermos de uso\\nReprodução de material\\nArquivo Blog Fernando Rodrigues\\n\\n\\n\\n\\n\\ncompartilhe o Poder360\\n\\n\\n\\n\\n\\n\\n \\n\\n\\n\\n\\n\\n\\nASSINE O PODER MONITOR\\n\\n\\n\\n\\n\\n\\n\\n\\n\\n\\n\\n\\n\\npublicidade\\n\\n\\n\\n\\n\\n \\n\\npublicidade\\n\\n\\n\\n\\n\\n \\n\\n\\n\\n\\n\\n\\nDepois de se opor à declaração, Milei é recebido por Lula no G20\\nA Argentina se opôs a diversos temas em discussão e, se não ceder, periga derrubar o documento; seria fracasso para o Brasil\\n\\n\\n\\n\\n\\n\\n\\n\\n\\n\\n\\n\\n\\n\\n\\n\\n\\n\\n\\n\\n\\n\\n\\n\\n\\n\\n\\n\\n\\n\\n\\n\\n\\n\\n\\n\\n\\n\\n\\n\\n\\n\\n\\n\\n\\n\\n\\n\\n\\n\\n\\n\\n\\n\\n\\n\\n\\n\\n\\n\\n\\n\\n\\n\\n\\n\\n\\n\\n\\n\\n\\n\\n\\n\\n\\n\\n\\n\\n\\n\\n\\n\\n\\t\\t\\t\\tcopiar link\\n\\t\\t\\t\\n\\n\\n\\n\\n\\n\\n\\n\\n \\nO cumprimento de recepção entre Lula e Milei foi frio e distante, assim como a foto oficial foi rápida e sem muitos toques; na foto, os presidentes argentino (à esquerda) e brasileiro (à direita) ao lado das respectivas primeiras-damas\\n\\n\\n\\n\\n Reprodução/Youtube - 18.nov.2024\\n\\n\\n\\n\\n\\n\\n\\nMateus Maia \\n enviado especial ao Rio de Janeiro\\n\\n\\t\\t18.nov.2024 (segunda-feira) - 11h08\\n\\n\\n\\nO presidente Luiz Inácio Lula da Silva (PT) recebeu nesta 2ª feira (18.nov.2024) o presidente da Argentina, Javier Milei, na cúpula do G20, no Rio. Foi a 1ª vez que ambos se cumprimentaram desde a eleição de Milei (',\n",
       "  'summarization': 'No encontro do G20, o presidente brasileiro Luiz Inácio Lula da Silva recebeu o presidente argentino Javier Milei, que havia se oposto a diversos temas debatidos na cúpula. Essa oposição de Milei pode resultar em complicações para a aprovação de um documento conjunto, o que representaria um fracasso diplomático para o Brasil.\\n\\nO cumprimento entre os dois líderes foi descrito como frio e distante, e a foto oficial, que os retratou ao lado de suas respectivas primeiras-damas, foi rápida e sem grande interação. Este encontro marca a primeira vez que Lula e Milei se cumprimentaram desde a eleição deste último, evidenciando um contexto tenso nas relações entre os dois países.\\n\\nEm resumo, a reunião não apenas destacou a divergência de opiniões entre os presidentes, mas também levantou preocupações sobre a eficácia das negociações no G20, especialmente considerando a importância da colaboração regional.',\n",
       "  'who_added': 'xvalentim',\n",
       "  'date_added': datetime.datetime(2024, 11, 18, 17, 49, 6, 366000)},\n",
       " {'_id': ObjectId('673bccd7a39d955e8a37b531'),\n",
       "  'url': 'https://python.langchain.com/api_reference/community/storage/langchain_community.storage.mongodb.MongoDBStore.html',\n",
       "  'content_type': 'web',\n",
       "  'original_content': '\\n\\n\\n\\n\\n\\nMongoDBStore — 🦜🔗 LangChain  documentation\\n\\n\\n\\n\\n\\n\\n\\n\\n\\n\\n\\n\\n\\n\\n\\n\\n\\n\\n\\n\\n\\n\\n\\n\\n\\n\\n\\n\\n\\n\\n\\n\\n\\n\\n\\nSkip to main content\\n\\n\\nBack to top\\n\\n\\n\\n\\nCtrl+K\\n\\n\\n\\n\\n\\n\\n\\n\\n\\n\\n\\n\\n\\n\\n\\n\\n\\n\\n\\n\\n\\n\\n\\n\\n    Reference\\n  \\n\\n\\n\\n\\n\\n\\n\\n\\n\\nCtrl+K\\n\\n\\n\\n\\n\\n\\n\\nDocs\\n\\n\\n\\n\\n\\n\\n\\n\\n\\n\\nGitHub\\n\\n\\n\\nX / Twitter\\n\\n\\n\\n\\n\\n\\n\\n\\nCtrl+K\\n\\n\\n\\n\\n\\n\\n\\n\\n\\n\\n\\n\\n\\n\\n\\n\\n\\n\\n    Reference\\n  \\n\\n\\n\\n\\n\\n\\n\\n\\n\\n\\nDocs\\n\\n\\n\\n\\n\\n\\n\\n\\n\\n\\nGitHub\\n\\n\\n\\nX / Twitter\\n\\n\\n\\n\\n\\n\\n\\nSection Navigation\\nBase packages\\n\\nCore\\nLangchain\\nText Splitters\\nCommunity\\nadapters\\nagent_toolkits\\nagents\\ncache\\ncallbacks\\nchains\\nchat_loaders\\nchat_message_histories\\nchat_models\\ncross_encoders\\ndocstore\\ndocument_compressors\\ndocument_loaders\\ndocument_transformers\\nembeddings\\nexample_selectors\\ngraph_vectorstores\\ngraphs\\nindexes\\nllms\\nmemory\\noutput_parsers\\nquery_constructors\\nretrievers\\nstorage\\nAstraDBBaseStore\\nCassandraByteStore\\nMongoDBByteStore\\nMongoDBStore\\nRedisStore\\nLangchainKeyValueStores\\nSQLStore\\nUpstashRedisByteStore\\nitems_equal\\nAstraDBByteStore\\nAstraDBStore\\nUpstashRedisStore\\n\\n\\ntools\\nutilities\\nutils\\nvectorstores\\n\\n\\nExperimental\\n\\nIntegrations\\n\\nAI21\\nAnthropic\\nAstraDB\\nAWS\\nAzure Dynamic Sessions\\nBox\\nCerebras\\nChroma\\nCohere\\nCouchbase\\nDatabricks\\nElasticsearch\\nExa\\nFireworks\\nGoogle Community\\nGoogle GenAI\\nGoogle VertexAI\\nGroq\\nHuggingface\\nIBM\\nMilvus\\nMistralAI\\nMongoDB\\nNomic\\nNvidia Ai Endpoints\\nOllama\\nOpenAI\\nPinecone\\nPostgres\\nPrompty\\nQdrant\\nRedis\\nSema4\\nSnowflake\\nSqlserver\\nTogether\\nUnstructured\\nUpstage\\nVoyageAI\\nWeaviate\\nXAI\\n\\n\\n\\n\\n\\n\\n\\n\\n\\n\\n\\n\\n\\n\\n\\n\\n\\n\\n\\n\\n\\n\\nLangChain Python API Reference\\nlangchain-community: 0.3.7\\nstorage\\nMongoDBStore\\n\\n\\n\\n\\n\\n\\n\\n\\n\\nMongoDBStore#\\n\\n\\nclass langchain_community.storage.mongodb.MongoDBStore(connection_string: str, db_name: str, collection_name: str, *, client_kwargs: dict | None = None)[source]#\\nBaseStore implementation using MongoDB as the underlying store.\\nExamples\\nCreate a MongoDBStore instance and perform operations on it:\\n# Instantiate the MongoDBStore with a MongoDB connection\\nfrom langchain.storage import MongoDBStore\\n\\nmongo_conn_str = \"mongodb://localhost:27017/\"\\nmongodb_store = MongoDBStore(mongo_conn_str, db_name=\"test-db\",\\n                             collection_name=\"test-collection\")\\n\\n# Set values for keys\\ndoc1 = Document(...)\\ndoc2 = Document(...)\\nmongodb_store.mset([(\"key1\", doc1), (\"key2\", doc2)])\\n\\n# Get values for keys\\nvalues = mongodb_store.mget([\"key1\", \"key2\"])\\n# [doc1, doc2]\\n\\n# Iterate over keys\\nfor key in mongodb_store.yield_keys():\\n    print(key)\\n\\n# Delete keys\\nmongodb_store.mdelete([\"key1\", \"key2\"])\\n\\n\\nInitialize the MongoDBStore with a MongoDB connection string.\\n\\nParameters:\\n\\nconnection_string (str) – MongoDB connection string\\ndb_name (str) – name to use\\ncollection_name (str) – collection name to use\\nclient_kwargs (dict) – Keyword arguments to pass to the Mongo client\\n\\n\\n\\nMethods\\n\\n\\n__init__(connection_string,\\xa0db_name,\\xa0...[,\\xa0...])\\nInitialize the MongoDBStore with a MongoDB connection string.\\n\\namdelete(keys)\\nAsync delete the given keys and their associated values.\\n\\namget(keys)\\nAsync get the values associated with the given keys.\\n\\namset(key_value_pairs)\\nAsync set the values for the given keys.\\n\\nayield_keys',\n",
       "  'summarization': 'O conteúdo apresentado refere-se à documentação do **MongoDBStore**, uma implementação da biblioteca LangChain que utiliza o MongoDB como sistema de armazenamento subjacente. Abaixo, estão os principais pontos explicados de forma clara e acessível:\\n\\n### O que é o MongoDBStore?\\n- **MongoDBStore** é uma classe que permite armazenar e gerenciar documentos no MongoDB. Ele é parte da biblioteca LangChain, que é usada para criar aplicações de processamento de linguagem natural.\\n\\n### Como funciona?\\n- Para utilizar o MongoDBStore, é necessário fornecer uma **string de conexão** com o MongoDB, o nome do banco de dados e o nome da coleção onde os dados serão armazenados.\\n\\n### Exemplos de uso\\n1. **Instanciação**:\\n   - Você pode criar uma instância do MongoDBStore com a seguinte linha de código:\\n     ```python\\n     mongodb_store = MongoDBStore(\"mongodb://localhost:27017/\", db_name=\"test-db\", collection_name=\"test-collection\")\\n     ```\\n2. **Armazenamento de documentos**:\\n   - Para armazenar documentos, você pode usar o método `mset`, que aceita pares de chave e documento:\\n     ```python\\n     mongodb_store.mset([(\"key1\", doc1), (\"key2\", doc2)])\\n     ```\\n3. **Recuperação de documentos**:\\n   - Para recuperar documentos, use o método `mget`:\\n     ```python\\n     values = mongodb_store.mget([\"key1\", \"key2\"])  # Retorna [doc1, doc2]\\n     ```\\n4. **Iteração sobre as chaves**:\\n   - Você pode iterar sobre as chaves armazenadas utilizando `yield_keys()`:\\n     ```python\\n     for key in mongodb_store.yield_keys():\\n         print(key)\\n     ```\\n5. **Exclusão de documentos**:\\n   - Para remover documentos, você pode usar o método `mdelete`:\\n     ```python\\n     mongodb_store.mdelete([\"key1\", \"key2\"])\\n     ```\\n\\n### Parâmetros principais\\n- **connection_string**: String de conexão com o MongoDB.\\n- **db_name**: Nome do banco de dados a ser utilizado.\\n- **collection_name**: Nome da coleção para armazenar os documentos.\\n- **client_kwargs**: Argumentos opcionais para passar ao cliente MongoDB.\\n\\n### Métodos assíncronos\\n- O MongoDBStore também possui métodos assíncronos, como `amset`, `amget` e `amdelete`, que permitem operações assíncronas para maior eficiência.\\n\\n### Conclusão\\nO MongoDBStore é uma ferramenta poderosa para quem precisa integrar o MongoDB em aplicações de processamento de linguagem natural, oferecendo métodos simples para armazenar, recuperar e gerenciar documentos de forma eficiente.',\n",
       "  'who_added': 'xvalentim',\n",
       "  'date_added': datetime.datetime(2024, 11, 18, 20, 25, 11, 77000)}]"
      ]
     },
     "execution_count": 135,
     "metadata": {},
     "output_type": "execute_result"
    }
   ],
   "source": [
    "get_only_window_old_items(window=1, granularity='days')"
   ]
  },
  {
   "cell_type": "code",
   "execution_count": 144,
   "metadata": {},
   "outputs": [],
   "source": [
    "newsletter = create_newsletter()"
   ]
  },
  {
   "cell_type": "code",
   "execution_count": 147,
   "metadata": {},
   "outputs": [
    {
     "name": "stdout",
     "output_type": "stream",
     "text": [
      "4618\n"
     ]
    }
   ],
   "source": [
    "print(len(newsletter))"
   ]
  },
  {
   "cell_type": "code",
   "execution_count": null,
   "metadata": {},
   "outputs": [],
   "source": []
  }
 ],
 "metadata": {
  "kernelspec": {
   "display_name": "env",
   "language": "python",
   "name": "python3"
  },
  "language_info": {
   "codemirror_mode": {
    "name": "ipython",
    "version": 3
   },
   "file_extension": ".py",
   "mimetype": "text/x-python",
   "name": "python",
   "nbconvert_exporter": "python",
   "pygments_lexer": "ipython3",
   "version": "3.10.11"
  }
 },
 "nbformat": 4,
 "nbformat_minor": 2
}
