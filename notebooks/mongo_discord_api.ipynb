{
 "cells": [
  {
   "cell_type": "code",
   "execution_count": 1,
   "metadata": {},
   "outputs": [
    {
     "name": "stderr",
     "output_type": "stream",
     "text": [
      "USER_AGENT environment variable not set, consider setting it to identify your requests.\n"
     ]
    },
    {
     "name": "stdout",
     "output_type": "stream",
     "text": [
      "Pinged your deployment. You successfully connected to MongoDB!\n"
     ]
    },
    {
     "data": {
      "text/plain": [
       "True"
      ]
     },
     "execution_count": 1,
     "metadata": {},
     "output_type": "execute_result"
    }
   ],
   "source": [
    "import discord\n",
    "from discord.ext import commands\n",
    "from utils import *\n",
    "\n",
    "import nest_asyncio\n",
    "import os\n",
    "nest_asyncio.apply()\n",
    "from dotenv import load_dotenv\n",
    "\n",
    "load_dotenv()"
   ]
  },
  {
   "cell_type": "code",
   "execution_count": null,
   "metadata": {},
   "outputs": [
    {
     "name": "stderr",
     "output_type": "stream",
     "text": [
      "[2024-11-19 13:50:22] [INFO    ] discord.client: logging in using static token\n",
      "[2024-11-19 13:50:23] [INFO    ] discord.gateway: Shard ID None has connected to Gateway (Session ID: 429a9d13a2c089037820c32d457e0c4c).\n"
     ]
    }
   ],
   "source": [
    "\n",
    "TOKEN = os.getenv('DISCORD_TOKEN')\n",
    "\n",
    "intents = discord.Intents.all()\n",
    "intents.message_content = True\n",
    "\n",
    "bot = commands.Bot(command_prefix='$', intents=intents)\n",
    "\n",
    "type_messages = ['web', 'youtube']\n",
    "\n",
    "def get_metadata_from_message(message):\n",
    "    return {\n",
    "        'message_id': message.id,\n",
    "        'channel': message.channel,\n",
    "        'author': message.author,\n",
    "        'content': message.content,\n",
    "    }\n",
    "    \n",
    "@commands.command()\n",
    "async def get_summary(ctx, *args):\n",
    "    arguments = ', '.join(args)\n",
    "    \n",
    "    message_id = ctx.message.id\n",
    "    author = ctx.message.author\n",
    "    channel = ctx.message.channel\n",
    "    content = ctx.message.content\n",
    "    \n",
    "    username = author.name\n",
    "    type_content = args[0]\n",
    "    url = args[1]\n",
    "    \n",
    "    if type_content not in type_messages:\n",
    "        await ctx.send(f'Por favor, informe o tipo de conteúdo que deseja resumir. Opções: {type_messages}')\n",
    "        await ctx.send(f'Exemplo: $get_summary web https://www.uol.com.br')\n",
    "        return\n",
    "    await ctx.send(f'Processando o link...')\n",
    "    \n",
    "    input_tuple = (url, type_content, username)\n",
    "    \n",
    "    try:\n",
    "        obj = await get_metadata(input_tuple[0], input_tuple[1], input_tuple[2])\n",
    "        insert_objects([obj])\n",
    "        await ctx.send('Conteúdo salvo no DB!')\n",
    "        \n",
    "    except Exception as e:\n",
    "        print(e)\n",
    "        await ctx.send(f'Erro ao acessar a página {url}')\n",
    "        return\n",
    "    \n",
    "@commands.command()\n",
    "async def generate_newsletter(ctx):\n",
    "    await ctx.send('Gerando newsletter...')\n",
    "    newsletter = create_newsletter(k=4)\n",
    "    await ctx.send('Newsletter gerada!')\n",
    "    await ctx.send(newsletter[:1_800])\n",
    "\n",
    "bot.add_command(generate_newsletter)\n",
    "bot.add_command(get_summary)\n",
    "bot.run(TOKEN)"
   ]
  }
 ],
 "metadata": {
  "kernelspec": {
   "display_name": "env",
   "language": "python",
   "name": "python3"
  },
  "language_info": {
   "codemirror_mode": {
    "name": "ipython",
    "version": 3
   },
   "file_extension": ".py",
   "mimetype": "text/x-python",
   "name": "python",
   "nbconvert_exporter": "python",
   "pygments_lexer": "ipython3",
   "version": "3.10.11"
  }
 },
 "nbformat": 4,
 "nbformat_minor": 2
}
